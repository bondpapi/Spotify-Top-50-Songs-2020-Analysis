{
 "cells": [
  {
   "cell_type": "markdown",
   "id": "0851f174",
   "metadata": {},
   "source": [
    "# Spotify Top 50 (2020) Analysis"
   ]
  },
  {
   "cell_type": "markdown",
   "id": "e4ab1c7d",
   "metadata": {},
   "source": [
    "## Loading Dataset"
   ]
  },
  {
   "cell_type": "code",
   "execution_count": null,
   "id": "7ea768ee-b158-471e-9baa-c08eecb26d5d",
   "metadata": {},
   "outputs": [],
   "source": [
    "import pandas as pd\n",
    "\n",
    "df = pd.read_csv('spotifytoptracks.csv')\n",
    "\n",
    "print(df)"
   ]
  },
  {
   "cell_type": "markdown",
   "id": "b6b5eaba",
   "metadata": {},
   "source": [
    "## Data Cleaning"
   ]
  },
  {
   "cell_type": "code",
   "execution_count": null,
   "id": "0c66e39a",
   "metadata": {},
   "outputs": [],
   "source": [
    "''' Check for missing Values '''\n",
    "\n",
    "df.isnull().sum()"
   ]
  },
  {
   "cell_type": "code",
   "execution_count": 34,
   "id": "79e1fc0c",
   "metadata": {},
   "outputs": [],
   "source": [
    "''' Remove duplicate samples '''\n",
    "\n",
    "df.drop_duplicates(inplace=True)"
   ]
  },
  {
   "cell_type": "code",
   "execution_count": null,
   "id": "952f3d4f",
   "metadata": {},
   "outputs": [],
   "source": [
    "''' Handling Outliers '''\n",
    "# Selct only numeric columns\n",
    "numeric_cols = df.select_dtypes(include=['float64', 'int64'])\n",
    "\n",
    "Q1 = numeric_cols.quantile(0.25)\n",
    "Q3 = numeric_cols.quantile(0.75)\n",
    "IQR = Q3 - Q1\n",
    "\n",
    "# Define the lower and upper bounds for outliers\n",
    "lower_bound = Q1 - 1.5 * IQR\n",
    "upper_bound = Q3 + 1.5 * IQR\n",
    "\n",
    "# Identify outliers based on the bounds\n",
    "outliers = (numeric_cols < lower_bound) | (numeric_cols > upper_bound)\n",
    "print(outliers)\n"
   ]
  },
  {
   "cell_type": "markdown",
   "id": "5fef1b62",
   "metadata": {},
   "source": [
    "## Exploratory Data Analysis (EDA)"
   ]
  },
  {
   "cell_type": "markdown",
   "id": "dc219b98",
   "metadata": {},
   "source": [
    "### General Information:"
   ]
  },
  {
   "cell_type": "code",
   "execution_count": 37,
   "id": "60c50bfc",
   "metadata": {},
   "outputs": [
    {
     "data": {
      "text/plain": [
       "50"
      ]
     },
     "execution_count": 37,
     "metadata": {},
     "output_type": "execute_result"
    }
   ],
   "source": [
    "''' Number of observations '''\n",
    "\n",
    "df.shape[0] #gives number of rows"
   ]
  },
  {
   "cell_type": "code",
   "execution_count": 38,
   "id": "c943ba4d",
   "metadata": {},
   "outputs": [
    {
     "data": {
      "text/plain": [
       "17"
      ]
     },
     "execution_count": 38,
     "metadata": {},
     "output_type": "execute_result"
    }
   ],
   "source": [
    "''' Number of features '''\n",
    "\n",
    "df.shape[1] #gives the number of columns"
   ]
  },
  {
   "cell_type": "markdown",
   "id": "5aaad25c",
   "metadata": {},
   "source": [
    "### Feature Classification:"
   ]
  },
  {
   "cell_type": "code",
   "execution_count": null,
   "id": "a02b828d",
   "metadata": {},
   "outputs": [],
   "source": [
    "# Categorical features\n",
    "df.select_dtypes(include=['object']).columns\n"
   ]
  },
  {
   "cell_type": "code",
   "execution_count": null,
   "id": "6cad0228",
   "metadata": {},
   "outputs": [],
   "source": [
    "# Numeric features\n",
    "df.select_dtypes(include=['float64', 'int64']).columns"
   ]
  },
  {
   "cell_type": "markdown",
   "id": "7c6a5bf0",
   "metadata": {},
   "source": [
    "### Questions:"
   ]
  },
  {
   "cell_type": "markdown",
   "id": "5949fced",
   "metadata": {},
   "source": [
    "#### 1. Artists with more than one popular track:"
   ]
  },
  {
   "cell_type": "code",
   "execution_count": null,
   "id": "a9748c56",
   "metadata": {},
   "outputs": [],
   "source": [
    "df['artist'].value_counts()[df['artist'].value_counts() > 1]"
   ]
  },
  {
   "cell_type": "markdown",
   "id": "63532173",
   "metadata": {},
   "source": [
    "#### 2. Most Popular artist:"
   ]
  },
  {
   "cell_type": "code",
   "execution_count": 47,
   "id": "5c2b0b33",
   "metadata": {},
   "outputs": [
    {
     "data": {
      "text/plain": [
       "'Billie Eilish'"
      ]
     },
     "execution_count": 47,
     "metadata": {},
     "output_type": "execute_result"
    }
   ],
   "source": [
    "df['artist'].value_counts().idxmax()"
   ]
  },
  {
   "cell_type": "markdown",
   "id": "16a72260",
   "metadata": {},
   "source": [
    "#### 3. Total number of artists:"
   ]
  },
  {
   "cell_type": "code",
   "execution_count": 50,
   "id": "fb80adb0",
   "metadata": {},
   "outputs": [
    {
     "data": {
      "text/plain": [
       "40"
      ]
     },
     "execution_count": 50,
     "metadata": {},
     "output_type": "execute_result"
    }
   ],
   "source": [
    "df['artist'].nunique()"
   ]
  },
  {
   "cell_type": "markdown",
   "id": "baad200b",
   "metadata": {},
   "source": [
    "#### 4. Albums with more than 1 popular track:"
   ]
  },
  {
   "cell_type": "code",
   "execution_count": null,
   "id": "f315915a",
   "metadata": {},
   "outputs": [],
   "source": [
    "df['album'].value_counts()[df['album'].value_counts() > 1]"
   ]
  },
  {
   "cell_type": "markdown",
   "id": "e4895e83",
   "metadata": {},
   "source": [
    "#### 5. Total Number of Albums:"
   ]
  },
  {
   "cell_type": "code",
   "execution_count": 52,
   "id": "3c78817a",
   "metadata": {},
   "outputs": [
    {
     "data": {
      "text/plain": [
       "45"
      ]
     },
     "execution_count": 52,
     "metadata": {},
     "output_type": "execute_result"
    }
   ],
   "source": [
    "df['album'].nunique()"
   ]
  },
  {
   "cell_type": "markdown",
   "id": "0bfb87b0",
   "metadata": {},
   "source": [
    "#### 6. Tracks with a danceability score above 0.7:"
   ]
  },
  {
   "cell_type": "code",
   "execution_count": null,
   "id": "9e38c5ec",
   "metadata": {},
   "outputs": [],
   "source": [
    "df[df['danceability'] > 0.7]['track_name']"
   ]
  },
  {
   "cell_type": "markdown",
   "id": "e1b41934",
   "metadata": {},
   "source": [
    "#### 7. Tracks with a danceability score below 0.4:"
   ]
  },
  {
   "cell_type": "code",
   "execution_count": null,
   "id": "697c107d",
   "metadata": {},
   "outputs": [],
   "source": [
    "df[df['danceability'] < 0.4]['track_name']"
   ]
  },
  {
   "cell_type": "markdown",
   "id": "c3c173ac",
   "metadata": {},
   "source": [
    "#### 8. Tracks with loudness above -5:"
   ]
  },
  {
   "cell_type": "code",
   "execution_count": null,
   "id": "118cb361",
   "metadata": {},
   "outputs": [],
   "source": [
    "df[df['loudness'] > -5]['track_name']"
   ]
  },
  {
   "cell_type": "markdown",
   "id": "ec17cdf1",
   "metadata": {},
   "source": [
    "#### 9. Tracks with Loudness below -8:"
   ]
  },
  {
   "cell_type": "code",
   "execution_count": null,
   "id": "9a707861",
   "metadata": {},
   "outputs": [],
   "source": [
    "df[df['loudness'] < -8]['track_name']"
   ]
  },
  {
   "cell_type": "markdown",
   "id": "683a636e",
   "metadata": {},
   "source": [
    "#### 10. Longest and Shortest track:"
   ]
  },
  {
   "cell_type": "code",
   "execution_count": null,
   "id": "40a21ef7",
   "metadata": {},
   "outputs": [],
   "source": [
    "# Longest Track\n",
    "Longest_track = (df.loc[df['duration_ms'].idxmax(), 'track_name'])\n",
    "Longest_track_artist = (df.loc[df['duration_ms'].idxmax(), 'artist'])\n",
    "print(f\"The longest track is '{Longest_track}' by {Longest_track_artist}\")\n",
    "\n",
    "# Shortest Track\n",
    "Shortest_track = (df.loc[df['duration_ms'].idxmin(), 'track_name'])\n",
    "Shortest_track_artist = (df.loc[df['duration_ms'].idxmin(), 'artist'])\n",
    "print(f\"The shortest track is '{Shortest_track}' by {Shortest_track_artist}\")"
   ]
  },
  {
   "cell_type": "markdown",
   "id": "072b2935",
   "metadata": {},
   "source": [
    "#### Most Popular Genres and genres with only one song:"
   ]
  },
  {
   "cell_type": "code",
   "execution_count": null,
   "id": "4098bc6b",
   "metadata": {},
   "outputs": [],
   "source": [
    "# Most Popular Genres:\n",
    "\n",
    "# Getting value counts for the genre\n",
    "genre_counts = df['genre'].value_counts()\n",
    "\n",
    "# Resetting the index so \"genre\" doesn't appear at the top of output\n",
    "genre_counts = genre_counts.reset_index()\n",
    "\n",
    "# Rename columns\n",
    "genre_counts.columns = ['Genre', 'Count']\n",
    "\n",
    "# Display the result\n",
    "print(\"The Most Popular Genres are:\\n\")\n",
    "print(genre_counts)\n",
    "\n",
    "\n",
    "# Genres with only one song:\n",
    "\n",
    "# Getting value counts for the genre\n",
    "single_track_genres = df['genre'].value_counts()[df['genre'].value_counts() == 1]\n",
    "\n",
    "# Resetting the index so \"genre\" doesn't appear at the top of output\n",
    "single_track_genres = single_track_genres.reset_index()\n",
    "\n",
    "# Rename columns\n",
    "single_track_genres.columns = ['Genre', 'Count']\n",
    "\n",
    "# Display the result\n",
    "print(\"\\nThe Genres with only one song are:\\n\")\n",
    "print(single_track_genres)\n",
    "\n"
   ]
  },
  {
   "cell_type": "markdown",
   "id": "8a2e9776",
   "metadata": {},
   "source": [
    "### Correlations:"
   ]
  },
  {
   "cell_type": "markdown",
   "id": "d66a374b",
   "metadata": {},
   "source": [
    "#### 1. Strong positive/negative correlations:"
   ]
  },
  {
   "cell_type": "code",
   "execution_count": null,
   "id": "d39342d4",
   "metadata": {},
   "outputs": [],
   "source": [
    "# Selecting only numeric columns\n",
    "numeric_cols = df.select_dtypes(include=['int', 'float']).columns\n",
    "\n",
    "# Calculate the correlation matrix\n",
    "corr_matrix = df[numeric_cols].corr()\n",
    "\n",
    "# Display the correlation matrix\n",
    "print(corr_matrix)\n"
   ]
  },
  {
   "cell_type": "markdown",
   "id": "a4133917",
   "metadata": {},
   "source": [
    "##### Key Insights:\n",
    "\n",
    "##### Energy & Loudness:\n",
    "    - High positive correlation (0.79), meaning energetic songs tend to be louder.\n",
    "\n",
    "##### Energy & Acousticness:\n",
    "    - Strong negative correlation (-0.68), meaning energetic songs are usually not acoustic.\n",
    "\n",
    "##### Danceability & Valence:\n",
    "    - Positive correlation (0.48), meaning more danceable songs are usually happier.\n"
   ]
  },
  {
   "cell_type": "markdown",
   "id": "1d26af82",
   "metadata": {},
   "source": [
    "#### 2. Correlation between specific features:"
   ]
  },
  {
   "cell_type": "code",
   "execution_count": null,
   "id": "a5318d1a",
   "metadata": {},
   "outputs": [],
   "source": [
    "# Filtering specific genres\n",
    "selected_genres = df[df['genre'].isin(['Pop', 'Hip-Hop/Rap', 'Dance/Electronic', 'Alternative/Indie'])]\n",
    "\n",
    "# Group by genre and calculate the mean of selected features\n",
    "genre_comp = selected_genres.groupby('genre')[['danceability', 'loudness', 'acousticness']].mean()\n",
    "\n",
    "# Print the result\n",
    "print(genre_comp)"
   ]
  },
  {
   "cell_type": "markdown",
   "id": "58581b5c",
   "metadata": {},
   "source": [
    "##### Comparative Analysis of Genres Based on Danceability, Loudness, and Acousticness:\n",
    "\n",
    "##### Danceability: \n",
    "    - Hip-Hop/Rap (0.766) and Dance/Electronic (0.755) are the most danceable genres, making them ideal for tracks that get people moving. \n",
    "    -Pop (0.678) and Alternative/Indie (0.662) are moderately danceable, indicating a more balanced feel.\n",
    "\n",
    "##### Loudness:\n",
    "    - Dance/Electronic is the loudest (-5.34 dB), followed closely by Alternative/Indie (-5.42 dB). \n",
    "    - Hip-Hop/Rap (-6.92 dB) and Pop (-6.46 dB) are quieter, suggesting a softer production style compared to the more aggressive sounds of Dance/Electronic.\n",
    "\n",
    "##### Acousticness:\n",
    "    - Alternative/Indie (0.583) has the most acoustic elements, reflecting its organic sound, while Dance/Electronic (0.099) has the least, focusing on electronic production. Pop (0.324) and Hip-Hop/Rap (0.189) fall in the middle, blending acoustic and electronic elements.\n",
    "\n",
    "##### In summary, Dance/Electronic and Hip-Hop/Rap excel in danceability, with Dance/Electronic being louder but less acoustic. Alternative/Indie is more acoustic, offering a more organic sound, while Pop sits between these genres in both attributes."
   ]
  }
 ],
 "metadata": {
  "kernelspec": {
   "display_name": ".venv",
   "language": "python",
   "name": "python3"
  },
  "language_info": {
   "codemirror_mode": {
    "name": "ipython",
    "version": 3
   },
   "file_extension": ".py",
   "mimetype": "text/x-python",
   "name": "python",
   "nbconvert_exporter": "python",
   "pygments_lexer": "ipython3",
   "version": "3.11.5"
  }
 },
 "nbformat": 4,
 "nbformat_minor": 5
}
