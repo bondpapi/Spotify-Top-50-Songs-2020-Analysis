{
 "cells": [
  {
   "cell_type": "markdown",
   "id": "0851f174",
   "metadata": {},
   "source": [
    "# Spotify Top 50 (2020) Analysis"
   ]
  },
  {
   "cell_type": "code",
   "execution_count": 195,
   "id": "7ea768ee-b158-471e-9baa-c08eecb26d5d",
   "metadata": {},
   "outputs": [],
   "source": [
    "import pandas as pd\n",
    "import seaborn as sns\n",
    "import matplotlib.pyplot as plt"
   ]
  },
  {
   "cell_type": "markdown",
   "id": "bc46fcf0",
   "metadata": {},
   "source": [
    "## Loading Dataset"
   ]
  },
  {
   "cell_type": "code",
   "execution_count": 196,
   "id": "9e515b59",
   "metadata": {},
   "outputs": [
    {
     "data": {
      "text/html": [
       "<div>\n",
       "<style scoped>\n",
       "    .dataframe tbody tr th:only-of-type {\n",
       "        vertical-align: middle;\n",
       "    }\n",
       "\n",
       "    .dataframe tbody tr th {\n",
       "        vertical-align: top;\n",
       "    }\n",
       "\n",
       "    .dataframe thead th {\n",
       "        text-align: right;\n",
       "    }\n",
       "</style>\n",
       "<table border=\"1\" class=\"dataframe\">\n",
       "  <thead>\n",
       "    <tr style=\"text-align: right;\">\n",
       "      <th></th>\n",
       "      <th>Unnamed: 0</th>\n",
       "      <th>artist</th>\n",
       "      <th>album</th>\n",
       "      <th>track_name</th>\n",
       "      <th>track_id</th>\n",
       "      <th>energy</th>\n",
       "      <th>danceability</th>\n",
       "      <th>key</th>\n",
       "      <th>loudness</th>\n",
       "      <th>acousticness</th>\n",
       "      <th>speechiness</th>\n",
       "      <th>instrumentalness</th>\n",
       "      <th>liveness</th>\n",
       "      <th>valence</th>\n",
       "      <th>tempo</th>\n",
       "      <th>duration_ms</th>\n",
       "      <th>genre</th>\n",
       "    </tr>\n",
       "  </thead>\n",
       "  <tbody>\n",
       "    <tr>\n",
       "      <th>0</th>\n",
       "      <td>0</td>\n",
       "      <td>The Weeknd</td>\n",
       "      <td>After Hours</td>\n",
       "      <td>Blinding Lights</td>\n",
       "      <td>0VjIjW4GlUZAMYd2vXMi3b</td>\n",
       "      <td>0.730</td>\n",
       "      <td>0.514</td>\n",
       "      <td>1</td>\n",
       "      <td>-5.934</td>\n",
       "      <td>0.00146</td>\n",
       "      <td>0.0598</td>\n",
       "      <td>0.000095</td>\n",
       "      <td>0.0897</td>\n",
       "      <td>0.334</td>\n",
       "      <td>171.005</td>\n",
       "      <td>200040</td>\n",
       "      <td>R&amp;B/Soul</td>\n",
       "    </tr>\n",
       "    <tr>\n",
       "      <th>1</th>\n",
       "      <td>1</td>\n",
       "      <td>Tones And I</td>\n",
       "      <td>Dance Monkey</td>\n",
       "      <td>Dance Monkey</td>\n",
       "      <td>1rgnBhdG2JDFTbYkYRZAku</td>\n",
       "      <td>0.593</td>\n",
       "      <td>0.825</td>\n",
       "      <td>6</td>\n",
       "      <td>-6.401</td>\n",
       "      <td>0.68800</td>\n",
       "      <td>0.0988</td>\n",
       "      <td>0.000161</td>\n",
       "      <td>0.1700</td>\n",
       "      <td>0.540</td>\n",
       "      <td>98.078</td>\n",
       "      <td>209755</td>\n",
       "      <td>Alternative/Indie</td>\n",
       "    </tr>\n",
       "    <tr>\n",
       "      <th>2</th>\n",
       "      <td>2</td>\n",
       "      <td>Roddy Ricch</td>\n",
       "      <td>Please Excuse Me For Being Antisocial</td>\n",
       "      <td>The Box</td>\n",
       "      <td>0nbXyq5TXYPCO7pr3N8S4I</td>\n",
       "      <td>0.586</td>\n",
       "      <td>0.896</td>\n",
       "      <td>10</td>\n",
       "      <td>-6.687</td>\n",
       "      <td>0.10400</td>\n",
       "      <td>0.0559</td>\n",
       "      <td>0.000000</td>\n",
       "      <td>0.7900</td>\n",
       "      <td>0.642</td>\n",
       "      <td>116.971</td>\n",
       "      <td>196653</td>\n",
       "      <td>Hip-Hop/Rap</td>\n",
       "    </tr>\n",
       "    <tr>\n",
       "      <th>3</th>\n",
       "      <td>3</td>\n",
       "      <td>SAINt JHN</td>\n",
       "      <td>Roses (Imanbek Remix)</td>\n",
       "      <td>Roses - Imanbek Remix</td>\n",
       "      <td>2Wo6QQD1KMDWeFkkjLqwx5</td>\n",
       "      <td>0.721</td>\n",
       "      <td>0.785</td>\n",
       "      <td>8</td>\n",
       "      <td>-5.457</td>\n",
       "      <td>0.01490</td>\n",
       "      <td>0.0506</td>\n",
       "      <td>0.004320</td>\n",
       "      <td>0.2850</td>\n",
       "      <td>0.894</td>\n",
       "      <td>121.962</td>\n",
       "      <td>176219</td>\n",
       "      <td>Dance/Electronic</td>\n",
       "    </tr>\n",
       "    <tr>\n",
       "      <th>4</th>\n",
       "      <td>4</td>\n",
       "      <td>Dua Lipa</td>\n",
       "      <td>Future Nostalgia</td>\n",
       "      <td>Don't Start Now</td>\n",
       "      <td>3PfIrDoz19wz7qK7tYeu62</td>\n",
       "      <td>0.793</td>\n",
       "      <td>0.793</td>\n",
       "      <td>11</td>\n",
       "      <td>-4.521</td>\n",
       "      <td>0.01230</td>\n",
       "      <td>0.0830</td>\n",
       "      <td>0.000000</td>\n",
       "      <td>0.0951</td>\n",
       "      <td>0.679</td>\n",
       "      <td>123.950</td>\n",
       "      <td>183290</td>\n",
       "      <td>Nu-disco</td>\n",
       "    </tr>\n",
       "    <tr>\n",
       "      <th>5</th>\n",
       "      <td>5</td>\n",
       "      <td>DaBaby</td>\n",
       "      <td>BLAME IT ON BABY</td>\n",
       "      <td>ROCKSTAR (feat. Roddy Ricch)</td>\n",
       "      <td>7ytR5pFWmSjzHJIeQkgog4</td>\n",
       "      <td>0.690</td>\n",
       "      <td>0.746</td>\n",
       "      <td>11</td>\n",
       "      <td>-7.956</td>\n",
       "      <td>0.24700</td>\n",
       "      <td>0.1640</td>\n",
       "      <td>0.000000</td>\n",
       "      <td>0.1010</td>\n",
       "      <td>0.497</td>\n",
       "      <td>89.977</td>\n",
       "      <td>181733</td>\n",
       "      <td>Hip-Hop/Rap</td>\n",
       "    </tr>\n",
       "    <tr>\n",
       "      <th>6</th>\n",
       "      <td>6</td>\n",
       "      <td>Harry Styles</td>\n",
       "      <td>Fine Line</td>\n",
       "      <td>Watermelon Sugar</td>\n",
       "      <td>6UelLqGlWMcVH1E5c4H7lY</td>\n",
       "      <td>0.816</td>\n",
       "      <td>0.548</td>\n",
       "      <td>0</td>\n",
       "      <td>-4.209</td>\n",
       "      <td>0.12200</td>\n",
       "      <td>0.0465</td>\n",
       "      <td>0.000000</td>\n",
       "      <td>0.3350</td>\n",
       "      <td>0.557</td>\n",
       "      <td>95.390</td>\n",
       "      <td>174000</td>\n",
       "      <td>Pop</td>\n",
       "    </tr>\n",
       "    <tr>\n",
       "      <th>7</th>\n",
       "      <td>7</td>\n",
       "      <td>Powfu</td>\n",
       "      <td>death bed (coffee for your head)</td>\n",
       "      <td>death bed (coffee for your head)</td>\n",
       "      <td>7eJMfftS33KTjuF7lTsMCx</td>\n",
       "      <td>0.431</td>\n",
       "      <td>0.726</td>\n",
       "      <td>8</td>\n",
       "      <td>-8.765</td>\n",
       "      <td>0.73100</td>\n",
       "      <td>0.1350</td>\n",
       "      <td>0.000000</td>\n",
       "      <td>0.6960</td>\n",
       "      <td>0.348</td>\n",
       "      <td>144.026</td>\n",
       "      <td>173333</td>\n",
       "      <td>Hip-Hop/Rap</td>\n",
       "    </tr>\n",
       "    <tr>\n",
       "      <th>8</th>\n",
       "      <td>8</td>\n",
       "      <td>Trevor Daniel</td>\n",
       "      <td>Nicotine</td>\n",
       "      <td>Falling</td>\n",
       "      <td>2rRJrJEo19S2J82BDsQ3F7</td>\n",
       "      <td>0.430</td>\n",
       "      <td>0.784</td>\n",
       "      <td>10</td>\n",
       "      <td>-8.756</td>\n",
       "      <td>0.12300</td>\n",
       "      <td>0.0364</td>\n",
       "      <td>0.000000</td>\n",
       "      <td>0.0887</td>\n",
       "      <td>0.236</td>\n",
       "      <td>127.087</td>\n",
       "      <td>159382</td>\n",
       "      <td>R&amp;B/Hip-Hop alternative</td>\n",
       "    </tr>\n",
       "    <tr>\n",
       "      <th>9</th>\n",
       "      <td>9</td>\n",
       "      <td>Lewis Capaldi</td>\n",
       "      <td>Divinely Uninspired To A Hellish Extent</td>\n",
       "      <td>Someone You Loved</td>\n",
       "      <td>7qEHsqek33rTcFNT9PFqLf</td>\n",
       "      <td>0.405</td>\n",
       "      <td>0.501</td>\n",
       "      <td>1</td>\n",
       "      <td>-5.679</td>\n",
       "      <td>0.75100</td>\n",
       "      <td>0.0319</td>\n",
       "      <td>0.000000</td>\n",
       "      <td>0.1050</td>\n",
       "      <td>0.446</td>\n",
       "      <td>109.891</td>\n",
       "      <td>182161</td>\n",
       "      <td>Alternative/Indie</td>\n",
       "    </tr>\n",
       "  </tbody>\n",
       "</table>\n",
       "</div>"
      ],
      "text/plain": [
       "   Unnamed: 0         artist                                    album  \\\n",
       "0           0     The Weeknd                              After Hours   \n",
       "1           1    Tones And I                             Dance Monkey   \n",
       "2           2    Roddy Ricch    Please Excuse Me For Being Antisocial   \n",
       "3           3      SAINt JHN                    Roses (Imanbek Remix)   \n",
       "4           4       Dua Lipa                         Future Nostalgia   \n",
       "5           5         DaBaby                         BLAME IT ON BABY   \n",
       "6           6   Harry Styles                                Fine Line   \n",
       "7           7          Powfu         death bed (coffee for your head)   \n",
       "8           8  Trevor Daniel                                 Nicotine   \n",
       "9           9  Lewis Capaldi  Divinely Uninspired To A Hellish Extent   \n",
       "\n",
       "                         track_name                track_id  energy  \\\n",
       "0                   Blinding Lights  0VjIjW4GlUZAMYd2vXMi3b   0.730   \n",
       "1                      Dance Monkey  1rgnBhdG2JDFTbYkYRZAku   0.593   \n",
       "2                           The Box  0nbXyq5TXYPCO7pr3N8S4I   0.586   \n",
       "3             Roses - Imanbek Remix  2Wo6QQD1KMDWeFkkjLqwx5   0.721   \n",
       "4                   Don't Start Now  3PfIrDoz19wz7qK7tYeu62   0.793   \n",
       "5      ROCKSTAR (feat. Roddy Ricch)  7ytR5pFWmSjzHJIeQkgog4   0.690   \n",
       "6                  Watermelon Sugar  6UelLqGlWMcVH1E5c4H7lY   0.816   \n",
       "7  death bed (coffee for your head)  7eJMfftS33KTjuF7lTsMCx   0.431   \n",
       "8                           Falling  2rRJrJEo19S2J82BDsQ3F7   0.430   \n",
       "9                 Someone You Loved  7qEHsqek33rTcFNT9PFqLf   0.405   \n",
       "\n",
       "   danceability  key  loudness  acousticness  speechiness  instrumentalness  \\\n",
       "0         0.514    1    -5.934       0.00146       0.0598          0.000095   \n",
       "1         0.825    6    -6.401       0.68800       0.0988          0.000161   \n",
       "2         0.896   10    -6.687       0.10400       0.0559          0.000000   \n",
       "3         0.785    8    -5.457       0.01490       0.0506          0.004320   \n",
       "4         0.793   11    -4.521       0.01230       0.0830          0.000000   \n",
       "5         0.746   11    -7.956       0.24700       0.1640          0.000000   \n",
       "6         0.548    0    -4.209       0.12200       0.0465          0.000000   \n",
       "7         0.726    8    -8.765       0.73100       0.1350          0.000000   \n",
       "8         0.784   10    -8.756       0.12300       0.0364          0.000000   \n",
       "9         0.501    1    -5.679       0.75100       0.0319          0.000000   \n",
       "\n",
       "   liveness  valence    tempo  duration_ms                    genre  \n",
       "0    0.0897    0.334  171.005       200040                 R&B/Soul  \n",
       "1    0.1700    0.540   98.078       209755        Alternative/Indie  \n",
       "2    0.7900    0.642  116.971       196653              Hip-Hop/Rap  \n",
       "3    0.2850    0.894  121.962       176219         Dance/Electronic  \n",
       "4    0.0951    0.679  123.950       183290                 Nu-disco  \n",
       "5    0.1010    0.497   89.977       181733              Hip-Hop/Rap  \n",
       "6    0.3350    0.557   95.390       174000                      Pop  \n",
       "7    0.6960    0.348  144.026       173333              Hip-Hop/Rap  \n",
       "8    0.0887    0.236  127.087       159382  R&B/Hip-Hop alternative  \n",
       "9    0.1050    0.446  109.891       182161        Alternative/Indie  "
      ]
     },
     "execution_count": 196,
     "metadata": {},
     "output_type": "execute_result"
    }
   ],
   "source": [
    "df = pd.read_csv(\"spotifytoptracks.csv\")\n",
    "\n",
    "df.head(10)"
   ]
  },
  {
   "cell_type": "markdown",
   "id": "b6b5eaba",
   "metadata": {},
   "source": [
    "## Data Cleaning"
   ]
  },
  {
   "cell_type": "markdown",
   "id": "0c66e39a",
   "metadata": {},
   "source": [
    "Check for missing Values \n"
   ]
  },
  {
   "cell_type": "code",
   "execution_count": 197,
   "id": "753954ac",
   "metadata": {},
   "outputs": [
    {
     "data": {
      "text/plain": [
       "Unnamed: 0          0\n",
       "artist              0\n",
       "album               0\n",
       "track_name          0\n",
       "track_id            0\n",
       "energy              0\n",
       "danceability        0\n",
       "key                 0\n",
       "loudness            0\n",
       "acousticness        0\n",
       "speechiness         0\n",
       "instrumentalness    0\n",
       "liveness            0\n",
       "valence             0\n",
       "tempo               0\n",
       "duration_ms         0\n",
       "genre               0\n",
       "dtype: int64"
      ]
     },
     "execution_count": 197,
     "metadata": {},
     "output_type": "execute_result"
    }
   ],
   "source": [
    "df.isnull().sum()"
   ]
  },
  {
   "cell_type": "markdown",
   "id": "79e1fc0c",
   "metadata": {},
   "source": [
    "Remove duplicate samples\n"
   ]
  },
  {
   "cell_type": "code",
   "execution_count": 198,
   "id": "80caeafe",
   "metadata": {},
   "outputs": [],
   "source": [
    "df.drop_duplicates(inplace=True)"
   ]
  },
  {
   "cell_type": "markdown",
   "id": "952f3d4f",
   "metadata": {},
   "source": [
    "Handling Outliers\n"
   ]
  },
  {
   "cell_type": "code",
   "execution_count": 199,
   "id": "04f20b24",
   "metadata": {},
   "outputs": [
    {
     "name": "stdout",
     "output_type": "stream",
     "text": [
      "    Unnamed: 0  energy  danceability    key  loudness  acousticness  \\\n",
      "0        False   False         False  False     False         False   \n",
      "1        False   False         False  False     False          True   \n",
      "2        False   False         False  False     False         False   \n",
      "3        False   False         False  False     False         False   \n",
      "4        False   False         False  False     False         False   \n",
      "5        False   False         False  False     False         False   \n",
      "6        False   False         False  False     False         False   \n",
      "7        False   False         False  False     False          True   \n",
      "8        False   False         False  False     False         False   \n",
      "9        False   False         False  False     False          True   \n",
      "10       False   False         False  False     False         False   \n",
      "11       False   False         False  False     False         False   \n",
      "12       False   False         False  False     False         False   \n",
      "13       False   False         False  False     False         False   \n",
      "14       False   False         False  False     False         False   \n",
      "15       False   False         False  False     False         False   \n",
      "16       False   False          True  False     False         False   \n",
      "17       False   False         False  False     False         False   \n",
      "18       False   False         False  False     False          True   \n",
      "19       False   False         False  False     False         False   \n",
      "20       False   False         False  False     False         False   \n",
      "21       False   False         False  False     False         False   \n",
      "22       False   False         False  False     False         False   \n",
      "23       False   False         False  False     False         False   \n",
      "24       False   False         False  False      True          True   \n",
      "25       False   False         False  False     False         False   \n",
      "26       False   False         False  False     False         False   \n",
      "27       False   False         False  False     False         False   \n",
      "28       False   False         False  False     False         False   \n",
      "29       False   False         False  False     False         False   \n",
      "30       False   False         False  False     False         False   \n",
      "31       False   False         False  False     False         False   \n",
      "32       False   False         False  False     False         False   \n",
      "33       False   False         False  False     False         False   \n",
      "34       False   False         False  False     False         False   \n",
      "35       False   False         False  False     False         False   \n",
      "36       False   False         False  False     False         False   \n",
      "37       False   False         False  False     False         False   \n",
      "38       False   False         False  False     False         False   \n",
      "39       False   False         False  False     False         False   \n",
      "40       False   False         False  False     False         False   \n",
      "41       False   False         False  False     False         False   \n",
      "42       False   False         False  False     False         False   \n",
      "43       False   False         False  False     False         False   \n",
      "44       False   False          True  False     False          True   \n",
      "45       False   False         False  False     False         False   \n",
      "46       False   False         False  False     False         False   \n",
      "47       False   False          True  False     False          True   \n",
      "48       False   False         False  False     False         False   \n",
      "49       False   False         False  False     False         False   \n",
      "\n",
      "    speechiness  instrumentalness  liveness  valence  tempo  duration_ms  \n",
      "0         False              True     False    False  False        False  \n",
      "1         False              True     False    False  False        False  \n",
      "2         False             False      True    False  False        False  \n",
      "3         False              True     False    False  False        False  \n",
      "4         False             False     False    False  False        False  \n",
      "5         False             False     False    False  False        False  \n",
      "6         False             False     False    False  False        False  \n",
      "7         False             False      True    False  False        False  \n",
      "8         False             False     False    False  False        False  \n",
      "9         False             False     False    False  False        False  \n",
      "10        False              True     False    False  False        False  \n",
      "11        False             False     False    False  False        False  \n",
      "12        False              True     False    False  False        False  \n",
      "13        False             False     False    False  False        False  \n",
      "14        False             False     False    False  False        False  \n",
      "15        False             False     False    False  False        False  \n",
      "16        False             False     False    False  False        False  \n",
      "17        False             False     False    False  False        False  \n",
      "18        False             False     False    False  False        False  \n",
      "19         True             False     False    False  False        False  \n",
      "20        False             False     False    False  False        False  \n",
      "21        False             False     False    False  False        False  \n",
      "22        False             False     False    False  False        False  \n",
      "23        False             False     False    False  False        False  \n",
      "24        False              True     False    False  False        False  \n",
      "25        False             False     False    False  False        False  \n",
      "26         True              True     False    False  False        False  \n",
      "27         True             False     False    False  False        False  \n",
      "28        False             False     False    False  False        False  \n",
      "29         True             False     False    False  False        False  \n",
      "30        False             False     False    False  False        False  \n",
      "31        False             False     False    False  False        False  \n",
      "32        False             False     False    False  False        False  \n",
      "33        False              True     False    False  False        False  \n",
      "34        False              True     False    False  False        False  \n",
      "35        False             False     False    False  False        False  \n",
      "36        False             False     False    False  False        False  \n",
      "37        False             False     False    False  False        False  \n",
      "38         True             False     False    False  False        False  \n",
      "39        False              True     False    False  False        False  \n",
      "40        False             False     False    False  False        False  \n",
      "41        False              True      True    False  False        False  \n",
      "42        False             False     False    False  False        False  \n",
      "43         True             False     False    False  False         True  \n",
      "44        False             False     False    False  False        False  \n",
      "45        False             False     False    False  False        False  \n",
      "46        False             False     False    False  False        False  \n",
      "47        False             False     False    False  False        False  \n",
      "48        False              True     False    False  False        False  \n",
      "49        False             False     False    False  False         True  \n"
     ]
    }
   ],
   "source": [
    "# Selct only numeric columns\n",
    "numeric_cols = df.select_dtypes(include=[\"float64\", \"int64\"])\n",
    "\n",
    "Q1 = numeric_cols.quantile(0.25)\n",
    "Q3 = numeric_cols.quantile(0.75)\n",
    "IQR = Q3 - Q1\n",
    "\n",
    "# Define the lower and upper bounds for outliers\n",
    "lower_bound = Q1 - 1.5 * IQR\n",
    "upper_bound = Q3 + 1.5 * IQR\n",
    "\n",
    "# Identify outliers based on the bounds\n",
    "outliers = (numeric_cols < lower_bound) | (numeric_cols > upper_bound)\n",
    "print(outliers)"
   ]
  },
  {
   "cell_type": "markdown",
   "id": "5fef1b62",
   "metadata": {},
   "source": [
    "## Exploratory Data Analysis (EDA)"
   ]
  },
  {
   "cell_type": "markdown",
   "id": "dc219b98",
   "metadata": {},
   "source": [
    "### General Information:"
   ]
  },
  {
   "cell_type": "markdown",
   "id": "60c50bfc",
   "metadata": {},
   "source": [
    "Number of observations \n"
   ]
  },
  {
   "cell_type": "code",
   "execution_count": 200,
   "id": "5a2ee324",
   "metadata": {},
   "outputs": [
    {
     "name": "stdout",
     "output_type": "stream",
     "text": [
      "The dataset has 50 rows\n"
     ]
    }
   ],
   "source": [
    "print(f\"The dataset has {df.shape[0]} rows\")"
   ]
  },
  {
   "cell_type": "markdown",
   "id": "c943ba4d",
   "metadata": {},
   "source": [
    "Number of features\n"
   ]
  },
  {
   "cell_type": "code",
   "execution_count": 201,
   "id": "ac57dcb4",
   "metadata": {},
   "outputs": [
    {
     "name": "stdout",
     "output_type": "stream",
     "text": [
      "The dataset has 17 columns\n"
     ]
    }
   ],
   "source": [
    "print(f\"The dataset has {df.shape[1]} columns\")"
   ]
  },
  {
   "cell_type": "markdown",
   "id": "5aaad25c",
   "metadata": {},
   "source": [
    "### Feature Classification:"
   ]
  },
  {
   "cell_type": "code",
   "execution_count": 202,
   "id": "a02b828d",
   "metadata": {},
   "outputs": [
    {
     "name": "stdout",
     "output_type": "stream",
     "text": [
      "Categorical features are: ['artist', 'album', 'track_name', 'track_id', 'genre']\n"
     ]
    }
   ],
   "source": [
    "# Categorical features\n",
    "categorical_features = df.select_dtypes(include=[\"object\"]).columns\n",
    "print(f\"Categorical features are: {list(categorical_features)}\")"
   ]
  },
  {
   "cell_type": "code",
   "execution_count": 203,
   "id": "6cad0228",
   "metadata": {},
   "outputs": [
    {
     "name": "stdout",
     "output_type": "stream",
     "text": [
      "Numeric features are: ['Unnamed: 0', 'energy', 'danceability', 'key', 'loudness', 'acousticness', 'speechiness', 'instrumentalness', 'liveness', 'valence', 'tempo', 'duration_ms']\n"
     ]
    }
   ],
   "source": [
    "# Numeric features\n",
    "numeric_features = df.select_dtypes(include=[\"float64\", \"int64\"]).columns\n",
    "print(f\"Numeric features are: {list(numeric_features)}\")"
   ]
  },
  {
   "cell_type": "markdown",
   "id": "7c6a5bf0",
   "metadata": {},
   "source": [
    "### Questions:"
   ]
  },
  {
   "cell_type": "markdown",
   "id": "5949fced",
   "metadata": {},
   "source": [
    "#### 1. Artists with more than one popular track:"
   ]
  },
  {
   "cell_type": "code",
   "execution_count": 204,
   "id": "a9748c56",
   "metadata": {},
   "outputs": [
    {
     "name": "stdout",
     "output_type": "stream",
     "text": [
      "Artists with more than one popular track:\n",
      "\n",
      "Billie Eilish: 3 tracks\n",
      "Dua Lipa: 3 tracks\n",
      "Travis Scott: 3 tracks\n",
      "Justin Bieber: 2 tracks\n",
      "Harry Styles: 2 tracks\n",
      "Lewis Capaldi: 2 tracks\n",
      "Post Malone: 2 tracks\n"
     ]
    }
   ],
   "source": [
    "# Getting artists with more than one popular track\n",
    "multiple_tracks = df[\"artist\"].value_counts()[df[\"artist\"].value_counts() > 1]\n",
    "\n",
    "print(\"Artists with more than one popular track:\\n\")\n",
    "for artist, count in multiple_tracks.items():\n",
    "    print(f\"{artist}: {count} tracks\")"
   ]
  },
  {
   "cell_type": "markdown",
   "id": "63532173",
   "metadata": {},
   "source": [
    "#### 2. Most Popular artist:"
   ]
  },
  {
   "cell_type": "code",
   "execution_count": 205,
   "id": "5c2b0b33",
   "metadata": {},
   "outputs": [
    {
     "name": "stdout",
     "output_type": "stream",
     "text": [
      "The most popular artist in the Spotify Top 50 (2020) is Billie Eilish\n"
     ]
    }
   ],
   "source": [
    "print(\n",
    "    \"The most popular artist in the Spotify Top 50 (2020) is\",\n",
    "    df[\"artist\"].value_counts().idxmax(),\n",
    ")"
   ]
  },
  {
   "cell_type": "markdown",
   "id": "16a72260",
   "metadata": {},
   "source": [
    "#### 3. Total number of artists:"
   ]
  },
  {
   "cell_type": "code",
   "execution_count": 206,
   "id": "fb80adb0",
   "metadata": {},
   "outputs": [
    {
     "name": "stdout",
     "output_type": "stream",
     "text": [
      "There are 40 unique artists in the Spotify Top 50 (2020).\n"
     ]
    }
   ],
   "source": [
    "print(\n",
    "    f\"There are {df['artist'].nunique()} unique artists in the Spotify Top 50 (2020).\"\n",
    ")"
   ]
  },
  {
   "cell_type": "markdown",
   "id": "baad200b",
   "metadata": {},
   "source": [
    "#### 4. Albums with more than 1 popular track:"
   ]
  },
  {
   "cell_type": "code",
   "execution_count": 207,
   "id": "f315915a",
   "metadata": {},
   "outputs": [
    {
     "name": "stdout",
     "output_type": "stream",
     "text": [
      "Albums with multiple songs featured in top 50:\n",
      "\n",
      "Future Nostalgia: 3 tracks\n",
      "Hollywood's Bleeding: 2 tracks\n",
      "Fine Line: 2 tracks\n",
      "Changes: 2 tracks\n"
     ]
    }
   ],
   "source": [
    "# Getting all Albums with multiple songs featured in top 50\n",
    "multiple_track_album = df[\"album\"].value_counts()[df[\"album\"].value_counts() > 1]\n",
    "\n",
    "print(\"Albums with multiple songs featured in top 50:\\n\")\n",
    "for album, count in multiple_track_album.items():\n",
    "    print(f\"{album}: {count} tracks\")"
   ]
  },
  {
   "cell_type": "markdown",
   "id": "e4895e83",
   "metadata": {},
   "source": [
    "#### 5. Total Number of Albums:"
   ]
  },
  {
   "cell_type": "code",
   "execution_count": 208,
   "id": "3c78817a",
   "metadata": {},
   "outputs": [
    {
     "name": "stdout",
     "output_type": "stream",
     "text": [
      "There are 45 unique albums in the Spotify Top 50 (2020).\n"
     ]
    }
   ],
   "source": [
    "print(f\"There are {df['album'].nunique()} unique albums in the Spotify Top 50 (2020).\")"
   ]
  },
  {
   "cell_type": "markdown",
   "id": "0bfb87b0",
   "metadata": {},
   "source": [
    "#### 6. Tracks with a danceability score above 0.7:"
   ]
  },
  {
   "cell_type": "code",
   "execution_count": 209,
   "id": "9e38c5ec",
   "metadata": {},
   "outputs": [
    {
     "name": "stdout",
     "output_type": "stream",
     "text": [
      "The most danceable tracks are:\n",
      "\n",
      "Dance Monkey\n",
      "The Box\n",
      "Roses - Imanbek Remix\n",
      "Don't Start Now\n",
      "ROCKSTAR (feat. Roddy Ricch)\n",
      "death bed (coffee for your head)\n",
      "Falling\n",
      "Tusa\n",
      "Blueberry Faygo\n",
      "Intentions (feat. Quavo)\n",
      "Toosie Slide\n",
      "Say So\n",
      "Memories\n",
      "Life Is Good (feat. Drake)\n",
      "Savage Love (Laxed - Siren Beat)\n",
      "Breaking Me\n",
      "everything i wanted\n",
      "Señorita\n",
      "bad guy\n",
      "WAP (feat. Megan Thee Stallion)\n",
      "Sunday Best\n",
      "Godzilla (feat. Juice WRLD)\n",
      "Break My Heart\n",
      "Dynamite\n",
      "Supalonely (feat. Gus Dapperton)\n",
      "Sunflower - Spider-Man: Into the Spider-Verse\n",
      "Hawái\n",
      "Ride It\n",
      "goosebumps\n",
      "RITMO (Bad Boys For Life)\n",
      "THE SCOTTS\n",
      "SICKO MODE\n"
     ]
    }
   ],
   "source": [
    "print(\"The most danceable tracks are:\\n\")\n",
    "for track in df[df[\"danceability\"] > 0.7][\n",
    "    \"track_name\"\n",
    "]:  # Filter tracks with danceability score above 0.7\n",
    "    print(track)"
   ]
  },
  {
   "cell_type": "markdown",
   "id": "e1b41934",
   "metadata": {},
   "source": [
    "#### 7. Tracks with a danceability score below 0.4:"
   ]
  },
  {
   "cell_type": "code",
   "execution_count": 210,
   "id": "697c107d",
   "metadata": {},
   "outputs": [
    {
     "name": "stdout",
     "output_type": "stream",
     "text": [
      "The least danceable track(s):\n",
      "\n",
      "lovely (with Khalid)\n"
     ]
    }
   ],
   "source": [
    "print(\"The least danceable track(s):\\n\")\n",
    "for track in df[df[\"danceability\"] < 0.4][\n",
    "    \"track_name\"\n",
    "]:  # Filter tracks with danceability score below 0.4\n",
    "    print(track)"
   ]
  },
  {
   "cell_type": "markdown",
   "id": "c3c173ac",
   "metadata": {},
   "source": [
    "#### 8. Tracks with loudness above -5:"
   ]
  },
  {
   "cell_type": "code",
   "execution_count": 211,
   "id": "118cb361",
   "metadata": {},
   "outputs": [
    {
     "name": "stdout",
     "output_type": "stream",
     "text": [
      "The loudest tracks are:\n",
      "\n",
      "Don't Start Now\n",
      "Watermelon Sugar\n",
      "Tusa\n",
      "Circles\n",
      "Before You Go\n",
      "Say So\n",
      "Adore You\n",
      "Mood (feat. iann dior)\n",
      "Break My Heart\n",
      "Dynamite\n",
      "Supalonely (feat. Gus Dapperton)\n",
      "Rain On Me (with Ariana Grande)\n",
      "Sunflower - Spider-Man: Into the Spider-Verse\n",
      "Hawái\n",
      "Ride It\n",
      "goosebumps\n",
      "Safaera\n",
      "Physical\n",
      "SICKO MODE\n"
     ]
    }
   ],
   "source": [
    "print(\"The loudest tracks are:\\n\")\n",
    "for track in df[df[\"loudness\"] > -5][\n",
    "    \"track_name\"\n",
    "]:  # Filter tracks with loudness above -5\n",
    "    print(track)"
   ]
  },
  {
   "cell_type": "markdown",
   "id": "ec17cdf1",
   "metadata": {},
   "source": [
    "#### 9. Tracks with Loudness below -8:"
   ]
  },
  {
   "cell_type": "code",
   "execution_count": 212,
   "id": "9a707861",
   "metadata": {},
   "outputs": [
    {
     "name": "stdout",
     "output_type": "stream",
     "text": [
      "The Quietest tracks are :\n",
      "\n",
      "death bed (coffee for your head)\n",
      "Falling\n",
      "Toosie Slide\n",
      "Savage Love (Laxed - Siren Beat)\n",
      "everything i wanted\n",
      "bad guy\n",
      "HIGHEST IN THE ROOM\n",
      "lovely (with Khalid)\n",
      "If the World Was Ending - feat. Julia Michaels\n"
     ]
    }
   ],
   "source": [
    "print(\"The Quietest tracks are :\\n\")\n",
    "for track in df[df[\"loudness\"] < -8][\n",
    "    \"track_name\"\n",
    "]:  # Filter tracks with loudness below -8\n",
    "    print(track)"
   ]
  },
  {
   "cell_type": "markdown",
   "id": "683a636e",
   "metadata": {},
   "source": [
    "#### 10. Longest and Shortest track:"
   ]
  },
  {
   "cell_type": "code",
   "execution_count": 213,
   "id": "40a21ef7",
   "metadata": {},
   "outputs": [
    {
     "name": "stdout",
     "output_type": "stream",
     "text": [
      "The longest track is 'SICKO MODE' by Travis Scott, which is 5.21 minutes long\n",
      "The shortest track is 'Mood (feat. iann dior)' by 24kGoldn, which is 2.34 minutes long\n"
     ]
    }
   ],
   "source": [
    "def get_track_info(df, track_duration_col, track_name_col, artist_col, agg_func):\n",
    "    \"\"\"Function for reusable variables\"\"\"\n",
    "    track_idx = agg_func(\n",
    "        df[track_duration_col]\n",
    "    )  # Get index of the longest/shortest track\n",
    "    track_name = df.loc[track_idx, track_name_col]\n",
    "    track_artist = df.loc[track_idx, artist_col]\n",
    "    track_time = round(\n",
    "        df.loc[track_idx, track_duration_col] / 60000, 2\n",
    "    )  # Convert to minutes and round\n",
    "    return track_name, track_artist, track_time\n",
    "\n",
    "\n",
    "# Longest Track\n",
    "longest_track, longest_track_artist, longest_track_time = get_track_info(\n",
    "    df, \"duration_ms\", \"track_name\", \"artist\", pd.Series.idxmax\n",
    ")\n",
    "print(\n",
    "    f\"The longest track is '{longest_track}' by {longest_track_artist}, which is {longest_track_time} minutes long\"\n",
    ")\n",
    "\n",
    "# Shortest Track\n",
    "shortest_track, shortest_track_artist, shortest_track_time = get_track_info(\n",
    "    df, \"duration_ms\", \"track_name\", \"artist\", pd.Series.idxmin\n",
    ")\n",
    "print(\n",
    "    f\"The shortest track is '{shortest_track}' by {shortest_track_artist}, which is {shortest_track_time} minutes long\"\n",
    ")"
   ]
  },
  {
   "cell_type": "markdown",
   "id": "072b2935",
   "metadata": {},
   "source": [
    "#### Most Popular Genres and genres with only one song:"
   ]
  },
  {
   "cell_type": "code",
   "execution_count": 214,
   "id": "5ef27583",
   "metadata": {},
   "outputs": [
    {
     "name": "stdout",
     "output_type": "stream",
     "text": [
      "The Most Popular Genres are:\n",
      "\n",
      "                                 Count  count\n",
      "1                                  Pop     14\n",
      "2                          Hip-Hop/Rap     13\n",
      "3                     Dance/Electronic      5\n",
      "4                    Alternative/Indie      4\n",
      "5                             R&B/Soul      2\n",
      "6                          Electro-pop      2\n",
      "7                             Nu-disco      1\n",
      "8              R&B/Hip-Hop alternative      1\n",
      "9                        Pop/Soft Rock      1\n",
      "10                             Pop rap      1\n",
      "11                        Hip-Hop/Trap      1\n",
      "12                     Dance-pop/Disco      1\n",
      "13                           Disco-pop      1\n",
      "14                Dreampop/Hip-Hop/R&B      1\n",
      "15  Alternative/reggaeton/experimental      1\n",
      "16                         Chamber pop      1\n",
      "\n",
      "The Genres with only one song are:\n",
      "\n",
      "                                 Count  count\n",
      "1                             Nu-disco      1\n",
      "2              R&B/Hip-Hop alternative      1\n",
      "3                        Pop/Soft Rock      1\n",
      "4                              Pop rap      1\n",
      "5                         Hip-Hop/Trap      1\n",
      "6                      Dance-pop/Disco      1\n",
      "7                            Disco-pop      1\n",
      "8                 Dreampop/Hip-Hop/R&B      1\n",
      "9   Alternative/reggaeton/experimental      1\n",
      "10                         Chamber pop      1\n"
     ]
    }
   ],
   "source": [
    "# Most Popular Genres:\n",
    "genre_counts = (\n",
    "    df[\"genre\"]\n",
    "    .value_counts()\n",
    "    .reset_index()\n",
    "    .rename(columns={\"index\": \"Genre\", \"genre\": \"Count\"})\n",
    ")\n",
    "\n",
    "# Set the index to start from 1 instead of the default 0\n",
    "genre_counts.index = genre_counts.index + 1\n",
    "\n",
    "print(\"The Most Popular Genres are:\\n\")\n",
    "print(genre_counts)\n",
    "\n",
    "\n",
    "# Genres with only one song:\n",
    "single_track_genres = (\n",
    "    df[\"genre\"]\n",
    "    .value_counts()[df[\"genre\"].value_counts() == 1]\n",
    "    .reset_index()\n",
    "    .rename(columns={\"index\": \"Genre\", \"genre\": \"Count\"})\n",
    ")\n",
    "\n",
    "# Set the index to start from 1 instead of the default 0\n",
    "single_track_genres.index = single_track_genres.index + 1\n",
    "\n",
    "print(\"\\nThe Genres with only one song are:\\n\")\n",
    "print(single_track_genres)"
   ]
  },
  {
   "cell_type": "markdown",
   "id": "8a2e9776",
   "metadata": {},
   "source": [
    "### Correlations:"
   ]
  },
  {
   "cell_type": "markdown",
   "id": "d66a374b",
   "metadata": {},
   "source": [
    "#### 1. Strong positive/negative correlations:"
   ]
  },
  {
   "cell_type": "code",
   "execution_count": 215,
   "id": "d39342d4",
   "metadata": {},
   "outputs": [
    {
     "data": {
      "image/png": "[encoded data removed]",
      "text/plain": [
       "<Figure size 640x480 with 2 Axes>"
      ]
     },
     "metadata": {},
     "output_type": "display_data"
    }
   ],
   "source": [
    "# Selecting only numeric columns\n",
    "numeric_cols = df.select_dtypes(include=[\"int\", \"float\"]).columns\n",
    "\n",
    "# Calculate the correlation matrix\n",
    "corr_matrix = df[numeric_cols].corr()\n",
    "\n",
    "sns.heatmap(corr_matrix, annot=True, cmap=\"coolwarm\", fmt=\".2f\")\n",
    "plt.title(\"Correlation Matrix\")\n",
    "plt.show()"
   ]
  },
  {
   "cell_type": "markdown",
   "id": "a4133917",
   "metadata": {},
   "source": [
    "##### Key Insights:\n",
    "\n",
    "##### Energy & Loudness:\n",
    "    - High positive correlation (0.79), meaning energetic songs can be loud.\n",
    "\n",
    "##### Energy & Acousticness:\n",
    "    - Strong negative correlation (-0.68), meaning energetic songs might not be acoustic.\n",
    "\n",
    "##### Danceability & Valence:\n",
    "    - Positive correlation (0.48), meaning more danceable songs are usually happier.\n"
   ]
  },
  {
   "cell_type": "markdown",
   "id": "1d26af82",
   "metadata": {},
   "source": [
    "#### 2. Comparison of genres across specific features:"
   ]
  },
  {
   "cell_type": "code",
   "execution_count": 216,
   "id": "a5318d1a",
   "metadata": {},
   "outputs": [
    {
     "name": "stdout",
     "output_type": "stream",
     "text": [
      "                  danceability                                             \\\n",
      "                         count      mean       std    min      25%    50%   \n",
      "genre                                                                       \n",
      "Alternative/Indie          4.0  0.661750  0.211107  0.459  0.49050  0.663   \n",
      "Dance/Electronic           5.0  0.755000  0.094744  0.647  0.67400  0.785   \n",
      "Hip-Hop/Rap               13.0  0.765538  0.085470  0.598  0.72600  0.774   \n",
      "Pop                       14.0  0.677571  0.109853  0.464  0.61575  0.690   \n",
      "\n",
      "                                  loudness            ...                  \\\n",
      "                       75%    max    count      mean  ...      75%    max   \n",
      "genre                                                 ...                   \n",
      "Alternative/Indie  0.83425  0.862      4.0 -5.421000  ... -4.83000 -4.746   \n",
      "Dance/Electronic   0.78900  0.880      5.0 -5.338000  ... -4.25800 -3.756   \n",
      "Hip-Hop/Rap        0.83000  0.896     13.0 -6.917846  ... -5.61600 -3.370   \n",
      "Pop                0.76275  0.806     14.0 -6.460357  ... -3.87525 -3.280   \n",
      "\n",
      "                  acousticness                                                \\\n",
      "                         count      mean       std      min      25%     50%   \n",
      "genre                                                                          \n",
      "Alternative/Indie          4.0  0.583500  0.204086  0.29100  0.52575  0.6460   \n",
      "Dance/Electronic           5.0  0.099440  0.095828  0.01370  0.01490  0.0686   \n",
      "Hip-Hop/Rap               13.0  0.188741  0.186396  0.00513  0.06700  0.1450   \n",
      "Pop                       14.0  0.323843  0.318142  0.02100  0.05990  0.2590   \n",
      "\n",
      "                                   \n",
      "                       75%    max  \n",
      "genre                              \n",
      "Alternative/Indie  0.70375  0.751  \n",
      "Dance/Electronic   0.17700  0.223  \n",
      "Hip-Hop/Rap        0.23400  0.731  \n",
      "Pop                0.34800  0.902  \n",
      "\n",
      "[4 rows x 24 columns]\n"
     ]
    }
   ],
   "source": [
    "# Filtering specific genres\n",
    "selected_genres = df[\n",
    "    df[\"genre\"].isin([\"Pop\", \"Hip-Hop/Rap\", \"Dance/Electronic\", \"Alternative/Indie\"])\n",
    "]\n",
    "\n",
    "# Group by genre and calculate the mean of selected features\n",
    "genre_comp = selected_genres.groupby(\"genre\")[\n",
    "    [\"danceability\", \"loudness\", \"acousticness\"]\n",
    "].describe()\n",
    "\n",
    "print(genre_comp)"
   ]
  },
  {
   "cell_type": "markdown",
   "id": "58581b5c",
   "metadata": {},
   "source": [
    "##### Comparative Analysis of Genres Based on Danceability, Loudness, and Acousticness:\n",
    "\n",
    "##### Danceability: \n",
    "    - Hip-Hop/Rap (0.766) and Dance/Electronic (0.755) are the most danceable genres, making them ideal for tracks that get people moving. \n",
    "    -Pop (0.678) and Alternative/Indie (0.662) are moderately danceable, indicating a more balanced feel.\n",
    "\n",
    "##### Loudness:\n",
    "    - Dance/Electronic is the loudest (-5.34 dB), followed closely by Alternative/Indie (-5.42 dB). \n",
    "    - Hip-Hop/Rap (-6.92 dB) and Pop (-6.46 dB) are quieter, suggesting a softer production style compared to the more aggressive sounds of Dance/Electronic.\n",
    "\n",
    "##### Acousticness:\n",
    "    - Alternative/Indie (0.583) has the most acoustic elements, reflecting its organic sound, while Dance/Electronic (0.099) has the least, focusing on electronic production. Pop (0.324) and Hip-Hop/Rap (0.189) fall in the middle, blending acoustic and electronic elements.\n",
    "\n",
    "##### In summary, Dance/Electronic and Hip-Hop/Rap excel in danceability, with Dance/Electronic being louder but less acoustic. Alternative/Indie is more acoustic, offering a more organic sound, while Pop sits between these genres in both attributes."
   ]
  }
 ],
 "metadata": {
  "kernelspec": {
   "display_name": ".venv",
   "language": "python",
   "name": "python3"
  },
  "language_info": {
   "codemirror_mode": {
    "name": "ipython",
    "version": 3
   },
   "file_extension": ".py",
   "mimetype": "text/x-python",
   "name": "python",
   "nbconvert_exporter": "python",
   "pygments_lexer": "ipython3",
   "version": "3.11.5"
  }
 },
 "nbformat": 4,
 "nbformat_minor": 5
}
