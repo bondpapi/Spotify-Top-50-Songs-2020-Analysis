{
 "cells": [
  {
   "cell_type": "markdown",
   "id": "0851f174",
   "metadata": {},
   "source": [
    "# Spotify Top 50 (2020) Analysis"
   ]
  },
  {
   "cell_type": "markdown",
   "id": "e4ab1c7d",
   "metadata": {},
   "source": [
    "## Loading Dataset"
   ]
  },
  {
   "cell_type": "code",
   "execution_count": 5,
   "id": "7ea768ee-b158-471e-9baa-c08eecb26d5d",
   "metadata": {},
   "outputs": [
    {
     "name": "stdout",
     "output_type": "stream",
     "text": [
      "    Unnamed: 0           artist  \\\n",
      "0            0       The Weeknd   \n",
      "1            1      Tones And I   \n",
      "2            2      Roddy Ricch   \n",
      "3            3        SAINt JHN   \n",
      "4            4         Dua Lipa   \n",
      "5            5           DaBaby   \n",
      "6            6     Harry Styles   \n",
      "7            7            Powfu   \n",
      "8            8    Trevor Daniel   \n",
      "9            9    Lewis Capaldi   \n",
      "10          10          KAROL G   \n",
      "11          11   Arizona Zervas   \n",
      "12          12      Post Malone   \n",
      "13          13        Lil Mosey   \n",
      "14          14    Justin Bieber   \n",
      "15          15            Drake   \n",
      "16          16    Lewis Capaldi   \n",
      "17          17         Doja Cat   \n",
      "18          18         Maroon 5   \n",
      "19          19           Future   \n",
      "20          20        Jawsh 685   \n",
      "21          21     Harry Styles   \n",
      "22          22            Topic   \n",
      "23          23         24kGoldn   \n",
      "24          24    Billie Eilish   \n",
      "25          25     Shawn Mendes   \n",
      "26          26    Billie Eilish   \n",
      "27          27          Cardi B   \n",
      "28          28         Surfaces   \n",
      "29          29           Eminem   \n",
      "30          30    Justin Bieber   \n",
      "31          31         Dua Lipa   \n",
      "32          32              BTS   \n",
      "33          33            BENEE   \n",
      "34          34        Surf Mesa   \n",
      "35          35        Lady Gaga   \n",
      "36          36     Travis Scott   \n",
      "37          37      Post Malone   \n",
      "38          38           Maluma   \n",
      "39          39           Regard   \n",
      "40          40     Travis Scott   \n",
      "41          41  Black Eyed Peas   \n",
      "42          42       THE SCOTTS   \n",
      "43          43        Bad Bunny   \n",
      "44          44    Billie Eilish   \n",
      "45          45       Juice WRLD   \n",
      "46          46    Ariana Grande   \n",
      "47          47          JP Saxe   \n",
      "48          48         Dua Lipa   \n",
      "49          49     Travis Scott   \n",
      "\n",
      "                                                album  \\\n",
      "0                                         After Hours   \n",
      "1                                        Dance Monkey   \n",
      "2               Please Excuse Me For Being Antisocial   \n",
      "3                               Roses (Imanbek Remix)   \n",
      "4                                    Future Nostalgia   \n",
      "5                                    BLAME IT ON BABY   \n",
      "6                                           Fine Line   \n",
      "7                    death bed (coffee for your head)   \n",
      "8                                            Nicotine   \n",
      "9             Divinely Uninspired To A Hellish Extent   \n",
      "10                                               Tusa   \n",
      "11                                            ROXANNE   \n",
      "12                               Hollywood's Bleeding   \n",
      "13                                 Certified Hitmaker   \n",
      "14                                            Changes   \n",
      "15                               Dark Lane Demo Tapes   \n",
      "16  Divinely Uninspired To A Hellish Extent (Exten...   \n",
      "17                                           Hot Pink   \n",
      "18                                           Memories   \n",
      "19                                      High Off Life   \n",
      "20                   Savage Love (Laxed - Siren Beat)   \n",
      "21                                          Fine Line   \n",
      "22                                        Breaking Me   \n",
      "23                             Mood (feat. iann dior)   \n",
      "24                                everything i wanted   \n",
      "25                              Shawn Mendes (Deluxe)   \n",
      "26           WHEN WE ALL FALL ASLEEP, WHERE DO WE GO?   \n",
      "27                    WAP (feat. Megan Thee Stallion)   \n",
      "28                                 Where the Light Is   \n",
      "29                            Music To Be Murdered By   \n",
      "30                                            Changes   \n",
      "31                                   Future Nostalgia   \n",
      "32                         Dynamite (DayTime Version)   \n",
      "33                                            Hey u x   \n",
      "34               ily (i love you baby) (feat. Emilee)   \n",
      "35                                         Chromatica   \n",
      "36                                HIGHEST IN THE ROOM   \n",
      "37                               Hollywood's Bleeding   \n",
      "38                                       PAPI JUANCHO   \n",
      "39                                            Ride It   \n",
      "40                    Birds In The Trap Sing McKnight   \n",
      "41                                        Translation   \n",
      "42                                         THE SCOTTS   \n",
      "43                                           YHLQMDLG   \n",
      "44                               lovely (with Khalid)   \n",
      "45                            Goodbye & Good Riddance   \n",
      "46                                       Stuck with U   \n",
      "47     If the World Was Ending (feat. Julia Michaels)   \n",
      "48                                   Future Nostalgia   \n",
      "49                                         ASTROWORLD   \n",
      "\n",
      "                                        track_name                track_id  \\\n",
      "0                                  Blinding Lights  0VjIjW4GlUZAMYd2vXMi3b   \n",
      "1                                     Dance Monkey  1rgnBhdG2JDFTbYkYRZAku   \n",
      "2                                          The Box  0nbXyq5TXYPCO7pr3N8S4I   \n",
      "3                            Roses - Imanbek Remix  2Wo6QQD1KMDWeFkkjLqwx5   \n",
      "4                                  Don't Start Now  3PfIrDoz19wz7qK7tYeu62   \n",
      "5                     ROCKSTAR (feat. Roddy Ricch)  7ytR5pFWmSjzHJIeQkgog4   \n",
      "6                                 Watermelon Sugar  6UelLqGlWMcVH1E5c4H7lY   \n",
      "7                 death bed (coffee for your head)  7eJMfftS33KTjuF7lTsMCx   \n",
      "8                                          Falling  2rRJrJEo19S2J82BDsQ3F7   \n",
      "9                                Someone You Loved  7qEHsqek33rTcFNT9PFqLf   \n",
      "10                                            Tusa  7k4t7uLgtOxPwTpFmtJNTY   \n",
      "11                                         ROXANNE  696DnlkuDOXcMAnKlTgXXK   \n",
      "12                                         Circles  21jGcNKet2qwijlDFuPiPb   \n",
      "13                                 Blueberry Faygo  22LAwLoDA5b4AaGSkg6bKW   \n",
      "14                        Intentions (feat. Quavo)  4umIPjkehX1r7uhmGvXiSV   \n",
      "15                                    Toosie Slide  466cKvZn1j45IpxDdYZqdA   \n",
      "16                                   Before You Go  2gMXnyrvIjhVBUZwvLZDMP   \n",
      "17                                          Say So  3Dv1eDb0MEgF93GpLXlucZ   \n",
      "18                                        Memories  2b8fOow8UzyDFAE27YhOZM   \n",
      "19                      Life Is Good (feat. Drake)  1K5KBOgreBi5fkEHvg5ap3   \n",
      "20                Savage Love (Laxed - Siren Beat)  1xQ6trAsedVPCdbtDAmk0c   \n",
      "21                                       Adore You  3jjujdWJ72nww5eGnfs2E7   \n",
      "22                                     Breaking Me  3H7ihDc1dqLriiWXwsc2po   \n",
      "23                          Mood (feat. iann dior)  3tjFYV6RSFtuktYl3ZtYcq   \n",
      "24                             everything i wanted  3ZCTVFBt2Brf31RLEnCkWJ   \n",
      "25                                        Señorita  6v3KW9xbzN5yKLt9YKDYA2   \n",
      "26                                         bad guy  2Fxmhks0bxGSBdJ92vM42m   \n",
      "27                 WAP (feat. Megan Thee Stallion)  4Oun2ylbjFKMPTiaSbbCih   \n",
      "28                                     Sunday Best  1Cv1YLb4q0RzL6pybtaMLo   \n",
      "29                     Godzilla (feat. Juice WRLD)  7FIWs0pqAYbP91WWM0vlTQ   \n",
      "30                                           Yummy  16wAOAZ2OkqoIDN7TpChjR   \n",
      "31                                  Break My Heart  017PF4Q3l4DBUiWoXk4OWT   \n",
      "32                                        Dynamite  0t1kP63rueHleOhQkYSXFY   \n",
      "33                Supalonely (feat. Gus Dapperton)  3GZoWLVbmxcBys6g0DLFLf   \n",
      "34            ily (i love you baby) (feat. Emilee)  62aP9fBQKYKxi7PDXwcUAS   \n",
      "35                 Rain On Me (with Ariana Grande)  7ju97lgwC2rKQ6wwsf9no9   \n",
      "36                             HIGHEST IN THE ROOM  3eekarcy7kvN4yt5ZFzltW   \n",
      "37   Sunflower - Spider-Man: Into the Spider-Verse  0RiRZpuVRbi7oqRdSMwhQY   \n",
      "38                                           Hawái  1yoMvmasuxZfqHEipJhRbp   \n",
      "39                                         Ride It  2tnVG71enUj33Ic2nFN6kZ   \n",
      "40                                      goosebumps  6gBFPUFcJLzWGx4lenP6h2   \n",
      "41                       RITMO (Bad Boys For Life)  4NCsrTzgVfsDo8nWyP8PPc   \n",
      "42                                      THE SCOTTS  39Yp9wwQiSRIDOvrVg7mbk   \n",
      "43                                         Safaera  2DEZmgHKAvm41k4J3R2E9Y   \n",
      "44                            lovely (with Khalid)  0u2P5u6lvoDfwTYjAADbn4   \n",
      "45                                    Lucid Dreams  285pBltuF7vW8TeWk8hdRR   \n",
      "46               Stuck with U (with Justin Bieber)  4HBZA5flZLE435QTztThqH   \n",
      "47  If the World Was Ending - feat. Julia Michaels  2kJwzbxV2ppxnQoYw4GLBZ   \n",
      "48                                        Physical  3AzjcOeAmA57TIOr9zF1ZW   \n",
      "49                                      SICKO MODE  2xLMifQCjDGFmkHkpNLD9h   \n",
      "\n",
      "    energy  danceability  key  loudness  acousticness  speechiness  \\\n",
      "0    0.730         0.514    1    -5.934       0.00146       0.0598   \n",
      "1    0.593         0.825    6    -6.401       0.68800       0.0988   \n",
      "2    0.586         0.896   10    -6.687       0.10400       0.0559   \n",
      "3    0.721         0.785    8    -5.457       0.01490       0.0506   \n",
      "4    0.793         0.793   11    -4.521       0.01230       0.0830   \n",
      "5    0.690         0.746   11    -7.956       0.24700       0.1640   \n",
      "6    0.816         0.548    0    -4.209       0.12200       0.0465   \n",
      "7    0.431         0.726    8    -8.765       0.73100       0.1350   \n",
      "8    0.430         0.784   10    -8.756       0.12300       0.0364   \n",
      "9    0.405         0.501    1    -5.679       0.75100       0.0319   \n",
      "10   0.715         0.803    2    -3.280       0.29500       0.2980   \n",
      "11   0.601         0.621    6    -5.616       0.05220       0.1480   \n",
      "12   0.762         0.695    0    -3.497       0.19200       0.0395   \n",
      "13   0.554         0.774    0    -7.909       0.20700       0.0383   \n",
      "14   0.546         0.806    9    -6.637       0.30000       0.0575   \n",
      "15   0.490         0.830    1    -8.820       0.28900       0.2090   \n",
      "16   0.575         0.459    3    -4.858       0.60400       0.0573   \n",
      "17   0.673         0.787   11    -4.577       0.25600       0.1580   \n",
      "18   0.320         0.764   11    -7.209       0.83700       0.0546   \n",
      "19   0.574         0.795    2    -6.903       0.06700       0.4870   \n",
      "20   0.481         0.767    0    -8.520       0.23400       0.0803   \n",
      "21   0.771         0.676    8    -3.675       0.02370       0.0483   \n",
      "22   0.720         0.789    8    -5.652       0.22300       0.2180   \n",
      "23   0.722         0.700    7    -3.558       0.22100       0.0369   \n",
      "24   0.225         0.704    6   -14.454       0.90200       0.0994   \n",
      "25   0.548         0.759    9    -6.049       0.03920       0.0290   \n",
      "26   0.425         0.701    7   -10.965       0.32800       0.3750   \n",
      "27   0.454         0.935    1    -7.509       0.01940       0.3750   \n",
      "28   0.525         0.878    5    -6.832       0.18300       0.0578   \n",
      "29   0.745         0.808   10    -5.260       0.14500       0.3420   \n",
      "30   0.506         0.676    9    -6.652       0.34500       0.0958   \n",
      "31   0.729         0.730    4    -3.434       0.16700       0.0883   \n",
      "32   0.765         0.746    6    -4.410       0.01120       0.0993   \n",
      "33   0.631         0.862    7    -4.746       0.29100       0.0515   \n",
      "34   0.774         0.674   11    -7.567       0.06860       0.0892   \n",
      "35   0.855         0.672    9    -3.764       0.02100       0.0397   \n",
      "36   0.427         0.598    7    -8.764       0.05460       0.0317   \n",
      "37   0.522         0.755    2    -4.368       0.53300       0.0575   \n",
      "38   0.727         0.783    6    -3.454       0.18500       0.3890   \n",
      "39   0.751         0.880    7    -4.258       0.17700       0.0874   \n",
      "40   0.728         0.841    7    -3.370       0.08470       0.0484   \n",
      "41   0.704         0.723   10    -7.088       0.02590       0.0571   \n",
      "42   0.537         0.716    0    -7.648       0.23300       0.0514   \n",
      "43   0.829         0.607    2    -4.074       0.01030       0.3790   \n",
      "44   0.296         0.351    4   -10.109       0.93400       0.0333   \n",
      "45   0.566         0.511    6    -7.230       0.34900       0.2000   \n",
      "46   0.450         0.597    8    -6.658       0.22300       0.0418   \n",
      "47   0.473         0.464    1   -10.086       0.86600       0.1290   \n",
      "48   0.844         0.647    0    -3.756       0.01370       0.0457   \n",
      "49   0.730         0.834    8    -3.714       0.00513       0.2220   \n",
      "\n",
      "    instrumentalness  liveness  valence    tempo  duration_ms  \\\n",
      "0           0.000095    0.0897   0.3340  171.005       200040   \n",
      "1           0.000161    0.1700   0.5400   98.078       209755   \n",
      "2           0.000000    0.7900   0.6420  116.971       196653   \n",
      "3           0.004320    0.2850   0.8940  121.962       176219   \n",
      "4           0.000000    0.0951   0.6790  123.950       183290   \n",
      "5           0.000000    0.1010   0.4970   89.977       181733   \n",
      "6           0.000000    0.3350   0.5570   95.390       174000   \n",
      "7           0.000000    0.6960   0.3480  144.026       173333   \n",
      "8           0.000000    0.0887   0.2360  127.087       159382   \n",
      "9           0.000000    0.1050   0.4460  109.891       182161   \n",
      "10          0.000134    0.0574   0.5740  101.085       200960   \n",
      "11          0.000000    0.4600   0.4570  116.735       163636   \n",
      "12          0.002440    0.0863   0.5530  120.042       215280   \n",
      "13          0.000000    0.1320   0.3490   99.034       162547   \n",
      "14          0.000000    0.1020   0.8740  147.986       212867   \n",
      "15          0.000003    0.1130   0.8450   81.604       247059   \n",
      "16          0.000000    0.0885   0.1830  111.881       215107   \n",
      "17          0.000004    0.0904   0.7860  110.962       237893   \n",
      "18          0.000000    0.0822   0.5750   91.019       189486   \n",
      "19          0.000000    0.1500   0.5370  142.053       237918   \n",
      "20          0.000000    0.2690   0.7610  150.076       171375   \n",
      "21          0.000007    0.1020   0.5690   99.048       207133   \n",
      "22          0.000000    0.1290   0.6640  122.031       166794   \n",
      "23          0.000000    0.2720   0.7560   90.989       140526   \n",
      "24          0.657000    0.1060   0.2430  120.006       245426   \n",
      "25          0.000000    0.0828   0.7490  116.967       190800   \n",
      "26          0.130000    0.1000   0.5620  135.128       194088   \n",
      "27          0.000000    0.0824   0.3570  133.073       187541   \n",
      "28          0.000000    0.0714   0.6940  112.022       158571   \n",
      "29          0.000000    0.2920   0.8290  165.995       210800   \n",
      "30          0.000000    0.1180   0.4970  145.842       208520   \n",
      "31          0.000001    0.3490   0.4670  113.013       221820   \n",
      "32          0.000000    0.0936   0.7370  114.044       199054   \n",
      "33          0.000209    0.1230   0.8410  128.978       223488   \n",
      "34          0.001880    0.3930   0.3300  112.050       176547   \n",
      "35          0.000000    0.3230   0.6460  123.056       182200   \n",
      "36          0.000006    0.2100   0.0605   76.469       175721   \n",
      "37          0.000000    0.0685   0.9250   89.960       157560   \n",
      "38          0.000025    0.0626   0.5580  180.067       199112   \n",
      "39          0.000064    0.1060   0.8840  117.948       157606   \n",
      "40          0.000000    0.1490   0.4300  130.049       243837   \n",
      "41          0.001090    0.7920   0.6840  105.095       214935   \n",
      "42          0.000000    0.1570   0.2800  129.979       165978   \n",
      "43          0.000000    0.1070   0.6850   96.172       295177   \n",
      "44          0.000000    0.0950   0.1200  115.284       200186   \n",
      "45          0.000000    0.3400   0.2180   83.903       239836   \n",
      "46          0.000000    0.3820   0.5370  178.765       228482   \n",
      "47          0.000000    0.1090   0.6040   75.801       208687   \n",
      "48          0.000658    0.1020   0.7460  146.967       193829   \n",
      "49          0.000000    0.1240   0.4460  155.008       312820   \n",
      "\n",
      "                                 genre  \n",
      "0                             R&B/Soul  \n",
      "1                    Alternative/Indie  \n",
      "2                          Hip-Hop/Rap  \n",
      "3                     Dance/Electronic  \n",
      "4                             Nu-disco  \n",
      "5                          Hip-Hop/Rap  \n",
      "6                                  Pop  \n",
      "7                          Hip-Hop/Rap  \n",
      "8              R&B/Hip-Hop alternative  \n",
      "9                    Alternative/Indie  \n",
      "10                                 Pop  \n",
      "11                         Hip-Hop/Rap  \n",
      "12                       Pop/Soft Rock  \n",
      "13                         Hip-Hop/Rap  \n",
      "14                                 Pop  \n",
      "15                         Hip-Hop/Rap  \n",
      "16                   Alternative/Indie  \n",
      "17                            R&B/Soul  \n",
      "18                                 Pop  \n",
      "19                         Hip-Hop/Rap  \n",
      "20                         Hip-Hop/Rap  \n",
      "21                                 Pop  \n",
      "22                    Dance/Electronic  \n",
      "23                             Pop rap  \n",
      "24                                 Pop  \n",
      "25                                 Pop  \n",
      "26                         Electro-pop  \n",
      "27                        Hip-Hop/Trap  \n",
      "28                         Electro-pop  \n",
      "29                         Hip-Hop/Rap  \n",
      "30                                 Pop  \n",
      "31                     Dance-pop/Disco  \n",
      "32                           Disco-pop  \n",
      "33                   Alternative/Indie  \n",
      "34                    Dance/Electronic  \n",
      "35                                 Pop  \n",
      "36                         Hip-Hop/Rap  \n",
      "37                Dreampop/Hip-Hop/R&B  \n",
      "38                                 Pop  \n",
      "39                    Dance/Electronic  \n",
      "40                         Hip-Hop/Rap  \n",
      "41                                 Pop  \n",
      "42                         Hip-Hop/Rap  \n",
      "43  Alternative/reggaeton/experimental  \n",
      "44                         Chamber pop  \n",
      "45                                 Pop  \n",
      "46                                 Pop  \n",
      "47                                 Pop  \n",
      "48                    Dance/Electronic  \n",
      "49                         Hip-Hop/Rap  \n"
     ]
    }
   ],
   "source": [
    "import pandas as pd\n",
    "\n",
    "df = pd.read_csv(\"spotifytoptracks.csv\")\n",
    "\n",
    "print(df)"
   ]
  },
  {
   "cell_type": "markdown",
   "id": "b6b5eaba",
   "metadata": {},
   "source": [
    "## Data Cleaning"
   ]
  },
  {
   "cell_type": "code",
   "execution_count": 6,
   "id": "0c66e39a",
   "metadata": {},
   "outputs": [
    {
     "data": {
      "text/plain": [
       "Unnamed: 0          0\n",
       "artist              0\n",
       "album               0\n",
       "track_name          0\n",
       "track_id            0\n",
       "energy              0\n",
       "danceability        0\n",
       "key                 0\n",
       "loudness            0\n",
       "acousticness        0\n",
       "speechiness         0\n",
       "instrumentalness    0\n",
       "liveness            0\n",
       "valence             0\n",
       "tempo               0\n",
       "duration_ms         0\n",
       "genre               0\n",
       "dtype: int64"
      ]
     },
     "execution_count": 6,
     "metadata": {},
     "output_type": "execute_result"
    }
   ],
   "source": [
    "\"\"\" Check for missing Values \"\"\"\n",
    "\n",
    "df.isnull().sum()"
   ]
  },
  {
   "cell_type": "code",
   "execution_count": 7,
   "id": "79e1fc0c",
   "metadata": {},
   "outputs": [],
   "source": [
    "\"\"\" Remove duplicate samples \"\"\"\n",
    "\n",
    "df.drop_duplicates(inplace=True)"
   ]
  },
  {
   "cell_type": "code",
   "execution_count": 8,
   "id": "952f3d4f",
   "metadata": {},
   "outputs": [
    {
     "name": "stdout",
     "output_type": "stream",
     "text": [
      "    Unnamed: 0  energy  danceability    key  loudness  acousticness  \\\n",
      "0        False   False         False  False     False         False   \n",
      "1        False   False         False  False     False          True   \n",
      "2        False   False         False  False     False         False   \n",
      "3        False   False         False  False     False         False   \n",
      "4        False   False         False  False     False         False   \n",
      "5        False   False         False  False     False         False   \n",
      "6        False   False         False  False     False         False   \n",
      "7        False   False         False  False     False          True   \n",
      "8        False   False         False  False     False         False   \n",
      "9        False   False         False  False     False          True   \n",
      "10       False   False         False  False     False         False   \n",
      "11       False   False         False  False     False         False   \n",
      "12       False   False         False  False     False         False   \n",
      "13       False   False         False  False     False         False   \n",
      "14       False   False         False  False     False         False   \n",
      "15       False   False         False  False     False         False   \n",
      "16       False   False          True  False     False         False   \n",
      "17       False   False         False  False     False         False   \n",
      "18       False   False         False  False     False          True   \n",
      "19       False   False         False  False     False         False   \n",
      "20       False   False         False  False     False         False   \n",
      "21       False   False         False  False     False         False   \n",
      "22       False   False         False  False     False         False   \n",
      "23       False   False         False  False     False         False   \n",
      "24       False   False         False  False      True          True   \n",
      "25       False   False         False  False     False         False   \n",
      "26       False   False         False  False     False         False   \n",
      "27       False   False         False  False     False         False   \n",
      "28       False   False         False  False     False         False   \n",
      "29       False   False         False  False     False         False   \n",
      "30       False   False         False  False     False         False   \n",
      "31       False   False         False  False     False         False   \n",
      "32       False   False         False  False     False         False   \n",
      "33       False   False         False  False     False         False   \n",
      "34       False   False         False  False     False         False   \n",
      "35       False   False         False  False     False         False   \n",
      "36       False   False         False  False     False         False   \n",
      "37       False   False         False  False     False         False   \n",
      "38       False   False         False  False     False         False   \n",
      "39       False   False         False  False     False         False   \n",
      "40       False   False         False  False     False         False   \n",
      "41       False   False         False  False     False         False   \n",
      "42       False   False         False  False     False         False   \n",
      "43       False   False         False  False     False         False   \n",
      "44       False   False          True  False     False          True   \n",
      "45       False   False         False  False     False         False   \n",
      "46       False   False         False  False     False         False   \n",
      "47       False   False          True  False     False          True   \n",
      "48       False   False         False  False     False         False   \n",
      "49       False   False         False  False     False         False   \n",
      "\n",
      "    speechiness  instrumentalness  liveness  valence  tempo  duration_ms  \n",
      "0         False              True     False    False  False        False  \n",
      "1         False              True     False    False  False        False  \n",
      "2         False             False      True    False  False        False  \n",
      "3         False              True     False    False  False        False  \n",
      "4         False             False     False    False  False        False  \n",
      "5         False             False     False    False  False        False  \n",
      "6         False             False     False    False  False        False  \n",
      "7         False             False      True    False  False        False  \n",
      "8         False             False     False    False  False        False  \n",
      "9         False             False     False    False  False        False  \n",
      "10        False              True     False    False  False        False  \n",
      "11        False             False     False    False  False        False  \n",
      "12        False              True     False    False  False        False  \n",
      "13        False             False     False    False  False        False  \n",
      "14        False             False     False    False  False        False  \n",
      "15        False             False     False    False  False        False  \n",
      "16        False             False     False    False  False        False  \n",
      "17        False             False     False    False  False        False  \n",
      "18        False             False     False    False  False        False  \n",
      "19         True             False     False    False  False        False  \n",
      "20        False             False     False    False  False        False  \n",
      "21        False             False     False    False  False        False  \n",
      "22        False             False     False    False  False        False  \n",
      "23        False             False     False    False  False        False  \n",
      "24        False              True     False    False  False        False  \n",
      "25        False             False     False    False  False        False  \n",
      "26         True              True     False    False  False        False  \n",
      "27         True             False     False    False  False        False  \n",
      "28        False             False     False    False  False        False  \n",
      "29         True             False     False    False  False        False  \n",
      "30        False             False     False    False  False        False  \n",
      "31        False             False     False    False  False        False  \n",
      "32        False             False     False    False  False        False  \n",
      "33        False              True     False    False  False        False  \n",
      "34        False              True     False    False  False        False  \n",
      "35        False             False     False    False  False        False  \n",
      "36        False             False     False    False  False        False  \n",
      "37        False             False     False    False  False        False  \n",
      "38         True             False     False    False  False        False  \n",
      "39        False              True     False    False  False        False  \n",
      "40        False             False     False    False  False        False  \n",
      "41        False              True      True    False  False        False  \n",
      "42        False             False     False    False  False        False  \n",
      "43         True             False     False    False  False         True  \n",
      "44        False             False     False    False  False        False  \n",
      "45        False             False     False    False  False        False  \n",
      "46        False             False     False    False  False        False  \n",
      "47        False             False     False    False  False        False  \n",
      "48        False              True     False    False  False        False  \n",
      "49        False             False     False    False  False         True  \n"
     ]
    }
   ],
   "source": [
    "\"\"\" Handling Outliers \"\"\"\n",
    "\n",
    "# Selct only numeric columns\n",
    "numeric_cols = df.select_dtypes(include=[\"float64\", \"int64\"])\n",
    "\n",
    "Q1 = numeric_cols.quantile(0.25)\n",
    "Q3 = numeric_cols.quantile(0.75)\n",
    "IQR = Q3 - Q1\n",
    "\n",
    "# Define the lower and upper bounds for outliers\n",
    "lower_bound = Q1 - 1.5 * IQR\n",
    "upper_bound = Q3 + 1.5 * IQR\n",
    "\n",
    "# Identify outliers based on the bounds\n",
    "outliers = (numeric_cols < lower_bound) | (numeric_cols > upper_bound)\n",
    "print(outliers)"
   ]
  },
  {
   "cell_type": "markdown",
   "id": "5fef1b62",
   "metadata": {},
   "source": [
    "## Exploratory Data Analysis (EDA)"
   ]
  },
  {
   "cell_type": "markdown",
   "id": "dc219b98",
   "metadata": {},
   "source": [
    "### General Information:"
   ]
  },
  {
   "cell_type": "code",
   "execution_count": 28,
   "id": "60c50bfc",
   "metadata": {},
   "outputs": [
    {
     "name": "stdout",
     "output_type": "stream",
     "text": [
      "The dataset has 50 rows\n"
     ]
    }
   ],
   "source": [
    "\"\"\" Number of observations \"\"\"\n",
    "\n",
    "df.shape[0]  # gives number of rows\n",
    "print(f\"The dataset has {df.shape[0]} rows\")"
   ]
  },
  {
   "cell_type": "code",
   "execution_count": 29,
   "id": "c943ba4d",
   "metadata": {},
   "outputs": [
    {
     "name": "stdout",
     "output_type": "stream",
     "text": [
      "The dataset has 17 columns\n"
     ]
    }
   ],
   "source": [
    "\"\"\" Number of features \"\"\"\n",
    "\n",
    "df.shape[1]  # gives the number of columns\n",
    "print(f\"The dataset has {df.shape[1]} columns\")"
   ]
  },
  {
   "cell_type": "markdown",
   "id": "5aaad25c",
   "metadata": {},
   "source": [
    "### Feature Classification:"
   ]
  },
  {
   "cell_type": "code",
   "execution_count": 31,
   "id": "a02b828d",
   "metadata": {},
   "outputs": [
    {
     "name": "stdout",
     "output_type": "stream",
     "text": [
      "Categorical features are: ['artist', 'album', 'track_name', 'track_id', 'genre']\n"
     ]
    }
   ],
   "source": [
    "# Categorical features\n",
    "categorical_features = df.select_dtypes(include=[\"object\"]).columns\n",
    "print(f\"Categorical features are: {list(categorical_features)}\")"
   ]
  },
  {
   "cell_type": "code",
   "execution_count": 32,
   "id": "6cad0228",
   "metadata": {},
   "outputs": [
    {
     "name": "stdout",
     "output_type": "stream",
     "text": [
      "Numeric features are: ['Unnamed: 0', 'energy', 'danceability', 'key', 'loudness', 'acousticness', 'speechiness', 'instrumentalness', 'liveness', 'valence', 'tempo', 'duration_ms']\n"
     ]
    }
   ],
   "source": [
    "# Numeric features\n",
    "numeric_features = df.select_dtypes(include=[\"float64\", \"int64\"]).columns\n",
    "print(f\"Numeric features are: {list(numeric_features)}\")"
   ]
  },
  {
   "cell_type": "markdown",
   "id": "7c6a5bf0",
   "metadata": {},
   "source": [
    "### Questions:"
   ]
  },
  {
   "cell_type": "markdown",
   "id": "5949fced",
   "metadata": {},
   "source": [
    "#### 1. Artists with more than one popular track:"
   ]
  },
  {
   "cell_type": "code",
   "execution_count": 37,
   "id": "a9748c56",
   "metadata": {},
   "outputs": [
    {
     "name": "stdout",
     "output_type": "stream",
     "text": [
      "Artists with more than one popular track:\n",
      "\n",
      "Billie Eilish: 3 songs\n",
      "Dua Lipa: 3 songs\n",
      "Travis Scott: 3 songs\n",
      "Justin Bieber: 2 songs\n",
      "Harry Styles: 2 songs\n",
      "Lewis Capaldi: 2 songs\n",
      "Post Malone: 2 songs\n"
     ]
    }
   ],
   "source": [
    "# Getting artists with more than one popular track\n",
    "multiple_tracks = df[\"artist\"].value_counts()[df[\"artist\"].value_counts() > 1]\n",
    "\n",
    "# Print clean output\n",
    "print(\"Artists with more than one popular track:\\n\")\n",
    "for artist, count in multiple_tracks.items():\n",
    "    print(f\"{artist}: {count} songs\")"
   ]
  },
  {
   "cell_type": "markdown",
   "id": "63532173",
   "metadata": {},
   "source": [
    "#### 2. Most Popular artist:"
   ]
  },
  {
   "cell_type": "code",
   "execution_count": 38,
   "id": "5c2b0b33",
   "metadata": {},
   "outputs": [
    {
     "name": "stdout",
     "output_type": "stream",
     "text": [
      "The most popular artist in the Spotify Top 50 (2020) is Billie Eilish\n"
     ]
    }
   ],
   "source": [
    "most_popular = df[\"artist\"].value_counts().idxmax()\n",
    "print(f\"The most popular artist in the Spotify Top 50 (2020) is {most_popular}\")"
   ]
  },
  {
   "cell_type": "markdown",
   "id": "16a72260",
   "metadata": {},
   "source": [
    "#### 3. Total number of artists:"
   ]
  },
  {
   "cell_type": "code",
   "execution_count": 35,
   "id": "fb80adb0",
   "metadata": {},
   "outputs": [
    {
     "name": "stdout",
     "output_type": "stream",
     "text": [
      "There are 40 unique artists in the dataset.\n"
     ]
    }
   ],
   "source": [
    "unique_artist = df[\"artist\"].nunique()\n",
    "print(f\"There are {unique_artist} unique artists in the dataset.\")"
   ]
  },
  {
   "cell_type": "markdown",
   "id": "baad200b",
   "metadata": {},
   "source": [
    "#### 4. Albums with more than 1 popular track:"
   ]
  },
  {
   "cell_type": "code",
   "execution_count": 39,
   "id": "f315915a",
   "metadata": {},
   "outputs": [
    {
     "name": "stdout",
     "output_type": "stream",
     "text": [
      "Albums with multiple songs featured in top 50:\n",
      "\n",
      "Future Nostalgia: 3 songs\n",
      "Hollywood's Bleeding: 2 songs\n",
      "Fine Line: 2 songs\n",
      "Changes: 2 songs\n"
     ]
    }
   ],
   "source": [
    "# Getting all Albums with multiple songs featured in top 50\n",
    "multiple_track_album = df[\"album\"].value_counts()[df[\"album\"].value_counts() > 1]\n",
    "\n",
    "# Printing clean output\n",
    "print(\"Albums with multiple songs featured in top 50:\\n\")\n",
    "for album, count in multiple_track_album.items():\n",
    "    print(f\"{album}: {count} songs\")"
   ]
  },
  {
   "cell_type": "markdown",
   "id": "e4895e83",
   "metadata": {},
   "source": [
    "#### 5. Total Number of Albums:"
   ]
  },
  {
   "cell_type": "code",
   "execution_count": 40,
   "id": "3c78817a",
   "metadata": {},
   "outputs": [
    {
     "name": "stdout",
     "output_type": "stream",
     "text": [
      "There are 45 unique albums in the Spotify Top 50 (2020).\n"
     ]
    }
   ],
   "source": [
    "total_albums = df[\"album\"].nunique()\n",
    "print(f\"There are {total_albums} unique albums in the Spotify Top 50 (2020).\")"
   ]
  },
  {
   "cell_type": "markdown",
   "id": "0bfb87b0",
   "metadata": {},
   "source": [
    "#### 6. Tracks with a danceability score above 0.7:"
   ]
  },
  {
   "cell_type": "code",
   "execution_count": 41,
   "id": "9e38c5ec",
   "metadata": {},
   "outputs": [
    {
     "name": "stdout",
     "output_type": "stream",
     "text": [
      "Tracks with danceability above 0.7:\n",
      "\n",
      "Dance Monkey\n",
      "The Box\n",
      "Roses - Imanbek Remix\n",
      "Don't Start Now\n",
      "ROCKSTAR (feat. Roddy Ricch)\n",
      "death bed (coffee for your head)\n",
      "Falling\n",
      "Tusa\n",
      "Blueberry Faygo\n",
      "Intentions (feat. Quavo)\n",
      "Toosie Slide\n",
      "Say So\n",
      "Memories\n",
      "Life Is Good (feat. Drake)\n",
      "Savage Love (Laxed - Siren Beat)\n",
      "Breaking Me\n",
      "everything i wanted\n",
      "Señorita\n",
      "bad guy\n",
      "WAP (feat. Megan Thee Stallion)\n",
      "Sunday Best\n",
      "Godzilla (feat. Juice WRLD)\n",
      "Break My Heart\n",
      "Dynamite\n",
      "Supalonely (feat. Gus Dapperton)\n",
      "Sunflower - Spider-Man: Into the Spider-Verse\n",
      "Hawái\n",
      "Ride It\n",
      "goosebumps\n",
      "RITMO (Bad Boys For Life)\n",
      "THE SCOTTS\n",
      "SICKO MODE\n"
     ]
    }
   ],
   "source": [
    "# Filter tracks with danceability score above 0.7\n",
    "high_danceabilty = df[df[\"danceability\"] > 0.7][\"track_name\"]\n",
    "\n",
    "# Printing results with clean format\n",
    "print(\"Tracks with danceability above 0.7:\\n\")\n",
    "for track in high_danceabilty:\n",
    "    print(track)"
   ]
  },
  {
   "cell_type": "markdown",
   "id": "e1b41934",
   "metadata": {},
   "source": [
    "#### 7. Tracks with a danceability score below 0.4:"
   ]
  },
  {
   "cell_type": "code",
   "execution_count": 42,
   "id": "697c107d",
   "metadata": {},
   "outputs": [
    {
     "name": "stdout",
     "output_type": "stream",
     "text": [
      "Tracks with danceability below 0.4:\n",
      "\n",
      "lovely (with Khalid)\n"
     ]
    }
   ],
   "source": [
    "# Filtering tracks with danceability score below 0.4\n",
    "low_danceability = df[df[\"danceability\"] < 0.4][\"track_name\"]\n",
    "\n",
    "# Print clean format\n",
    "print(\"Tracks with danceability below 0.4:\\n\")\n",
    "for track in low_danceability:\n",
    "    print(track)"
   ]
  },
  {
   "cell_type": "markdown",
   "id": "c3c173ac",
   "metadata": {},
   "source": [
    "#### 8. Tracks with loudness above -5:"
   ]
  },
  {
   "cell_type": "code",
   "execution_count": 43,
   "id": "118cb361",
   "metadata": {},
   "outputs": [
    {
     "name": "stdout",
     "output_type": "stream",
     "text": [
      "The loudest tracks are:\n",
      "\n",
      "Don't Start Now\n",
      "Watermelon Sugar\n",
      "Tusa\n",
      "Circles\n",
      "Before You Go\n",
      "Say So\n",
      "Adore You\n",
      "Mood (feat. iann dior)\n",
      "Break My Heart\n",
      "Dynamite\n",
      "Supalonely (feat. Gus Dapperton)\n",
      "Rain On Me (with Ariana Grande)\n",
      "Sunflower - Spider-Man: Into the Spider-Verse\n",
      "Hawái\n",
      "Ride It\n",
      "goosebumps\n",
      "Safaera\n",
      "Physical\n",
      "SICKO MODE\n"
     ]
    }
   ],
   "source": [
    "# Filtering tracks with loudness above -5\n",
    "loud_tracks = df[df[\"loudness\"] > -5][\"track_name\"]\n",
    "\n",
    "# Printing the names of tracks with loudness above -5\n",
    "print(\"The loudest tracks are:\\n\")\n",
    "for track in loud_tracks:\n",
    "    print(track)"
   ]
  },
  {
   "cell_type": "markdown",
   "id": "ec17cdf1",
   "metadata": {},
   "source": [
    "#### 9. Tracks with Loudness below -8:"
   ]
  },
  {
   "cell_type": "code",
   "execution_count": 44,
   "id": "9a707861",
   "metadata": {},
   "outputs": [
    {
     "name": "stdout",
     "output_type": "stream",
     "text": [
      "The Quietest tracks are :\n",
      "\n",
      "death bed (coffee for your head)\n",
      "Falling\n",
      "Toosie Slide\n",
      "Savage Love (Laxed - Siren Beat)\n",
      "everything i wanted\n",
      "bad guy\n",
      "HIGHEST IN THE ROOM\n",
      "lovely (with Khalid)\n",
      "If the World Was Ending - feat. Julia Michaels\n"
     ]
    }
   ],
   "source": [
    "# Filtering tracks with loudness below -8\n",
    "quiet_tracks = df[df[\"loudness\"] < -8][\"track_name\"]\n",
    "\n",
    "# Printing clean fornmat\n",
    "print(\"The Quietest tracks are :\\n\")\n",
    "for track in quiet_tracks:\n",
    "    print(track)"
   ]
  },
  {
   "cell_type": "markdown",
   "id": "683a636e",
   "metadata": {},
   "source": [
    "#### 10. Longest and Shortest track:"
   ]
  },
  {
   "cell_type": "code",
   "execution_count": 22,
   "id": "40a21ef7",
   "metadata": {},
   "outputs": [
    {
     "name": "stdout",
     "output_type": "stream",
     "text": [
      "The longest track is 'SICKO MODE' by Travis Scott\n",
      "The shortest track is 'Mood (feat. iann dior)' by 24kGoldn\n"
     ]
    }
   ],
   "source": [
    "# Longest Track\n",
    "Longest_track = df.loc[df[\"duration_ms\"].idxmax(), \"track_name\"]\n",
    "Longest_track_artist = df.loc[df[\"duration_ms\"].idxmax(), \"artist\"]\n",
    "print(f\"The longest track is '{Longest_track}' by {Longest_track_artist}\")\n",
    "\n",
    "# Shortest Track\n",
    "Shortest_track = df.loc[df[\"duration_ms\"].idxmin(), \"track_name\"]\n",
    "Shortest_track_artist = df.loc[df[\"duration_ms\"].idxmin(), \"artist\"]\n",
    "print(f\"The shortest track is '{Shortest_track}' by {Shortest_track_artist}\")"
   ]
  },
  {
   "cell_type": "markdown",
   "id": "072b2935",
   "metadata": {},
   "source": [
    "#### Most Popular Genres and genres with only one song:"
   ]
  },
  {
   "cell_type": "code",
   "execution_count": 23,
   "id": "4098bc6b",
   "metadata": {},
   "outputs": [
    {
     "name": "stdout",
     "output_type": "stream",
     "text": [
      "The Most Popular Genres are:\n",
      "\n",
      "                                 Genre  Count\n",
      "0                                  Pop     14\n",
      "1                          Hip-Hop/Rap     13\n",
      "2                     Dance/Electronic      5\n",
      "3                    Alternative/Indie      4\n",
      "4                             R&B/Soul      2\n",
      "5                          Electro-pop      2\n",
      "6                             Nu-disco      1\n",
      "7              R&B/Hip-Hop alternative      1\n",
      "8                        Pop/Soft Rock      1\n",
      "9                              Pop rap      1\n",
      "10                        Hip-Hop/Trap      1\n",
      "11                     Dance-pop/Disco      1\n",
      "12                           Disco-pop      1\n",
      "13                Dreampop/Hip-Hop/R&B      1\n",
      "14  Alternative/reggaeton/experimental      1\n",
      "15                         Chamber pop      1\n",
      "\n",
      "The Genres with only one song are:\n",
      "\n",
      "                                Genre  Count\n",
      "0                            Nu-disco      1\n",
      "1             R&B/Hip-Hop alternative      1\n",
      "2                       Pop/Soft Rock      1\n",
      "3                             Pop rap      1\n",
      "4                        Hip-Hop/Trap      1\n",
      "5                     Dance-pop/Disco      1\n",
      "6                           Disco-pop      1\n",
      "7                Dreampop/Hip-Hop/R&B      1\n",
      "8  Alternative/reggaeton/experimental      1\n",
      "9                         Chamber pop      1\n"
     ]
    }
   ],
   "source": [
    "# Most Popular Genres:\n",
    "\n",
    "# Getting value counts for the genre\n",
    "genre_counts = df[\"genre\"].value_counts()\n",
    "\n",
    "# Resetting the index so \"genre\" doesn't appear at the top of output\n",
    "genre_counts = genre_counts.reset_index()\n",
    "\n",
    "# Rename columns\n",
    "genre_counts.columns = [\"Genre\", \"Count\"]\n",
    "\n",
    "# Display the result\n",
    "print(\"The Most Popular Genres are:\\n\")\n",
    "print(genre_counts)\n",
    "\n",
    "\n",
    "# Genres with only one song:\n",
    "\n",
    "# Getting value counts for the genre\n",
    "single_track_genres = df[\"genre\"].value_counts()[df[\"genre\"].value_counts() == 1]\n",
    "\n",
    "# Resetting the index so \"genre\" doesn't appear at the top of output\n",
    "single_track_genres = single_track_genres.reset_index()\n",
    "\n",
    "# Rename columns\n",
    "single_track_genres.columns = [\"Genre\", \"Count\"]\n",
    "\n",
    "# Display the result\n",
    "print(\"\\nThe Genres with only one song are:\\n\")\n",
    "print(single_track_genres)"
   ]
  },
  {
   "cell_type": "markdown",
   "id": "8a2e9776",
   "metadata": {},
   "source": [
    "### Correlations:"
   ]
  },
  {
   "cell_type": "markdown",
   "id": "d66a374b",
   "metadata": {},
   "source": [
    "#### 1. Strong positive/negative correlations:"
   ]
  },
  {
   "cell_type": "code",
   "execution_count": 24,
   "id": "d39342d4",
   "metadata": {},
   "outputs": [
    {
     "name": "stdout",
     "output_type": "stream",
     "text": [
      "                  Unnamed: 0    energy  danceability       key  loudness  \\\n",
      "Unnamed: 0          1.000000  0.030381     -0.176321 -0.052844  0.034935   \n",
      "energy              0.030381  1.000000      0.152552  0.062428  0.791640   \n",
      "danceability       -0.176321  0.152552      1.000000  0.285036  0.167147   \n",
      "key                -0.052844  0.062428      0.285036  1.000000 -0.009178   \n",
      "loudness            0.034935  0.791640      0.167147 -0.009178  1.000000   \n",
      "acousticness       -0.036557 -0.682479     -0.359135 -0.113394 -0.498695   \n",
      "speechiness         0.095790  0.074267      0.226148 -0.094965 -0.021693   \n",
      "instrumentalness   -0.003126 -0.385515     -0.017706  0.020802 -0.553735   \n",
      "liveness           -0.063216  0.069487     -0.006648  0.278672 -0.069939   \n",
      "valence            -0.034159  0.393453      0.479953  0.120007  0.406772   \n",
      "tempo               0.081289  0.075191      0.168956  0.080475  0.102097   \n",
      "duration_ms         0.309563  0.081971     -0.033763 -0.003345  0.064130   \n",
      "\n",
      "                  acousticness  speechiness  instrumentalness  liveness  \\\n",
      "Unnamed: 0           -0.036557     0.095790         -0.003126 -0.063216   \n",
      "energy               -0.682479     0.074267         -0.385515  0.069487   \n",
      "danceability         -0.359135     0.226148         -0.017706 -0.006648   \n",
      "key                  -0.113394    -0.094965          0.020802  0.278672   \n",
      "loudness             -0.498695    -0.021693         -0.553735 -0.069939   \n",
      "acousticness          1.000000    -0.135392          0.352184 -0.128384   \n",
      "speechiness          -0.135392     1.000000          0.028948 -0.142957   \n",
      "instrumentalness      0.352184     0.028948          1.000000 -0.087034   \n",
      "liveness             -0.128384    -0.142957         -0.087034  1.000000   \n",
      "valence              -0.243192     0.053867         -0.203283 -0.033366   \n",
      "tempo                -0.241119     0.215504          0.018853  0.025457   \n",
      "duration_ms          -0.010988     0.366976          0.184709 -0.090188   \n",
      "\n",
      "                   valence     tempo  duration_ms  \n",
      "Unnamed: 0       -0.034159  0.081289     0.309563  \n",
      "energy            0.393453  0.075191     0.081971  \n",
      "danceability      0.479953  0.168956    -0.033763  \n",
      "key               0.120007  0.080475    -0.003345  \n",
      "loudness          0.406772  0.102097     0.064130  \n",
      "acousticness     -0.243192 -0.241119    -0.010988  \n",
      "speechiness       0.053867  0.215504     0.366976  \n",
      "instrumentalness -0.203283  0.018853     0.184709  \n",
      "liveness         -0.033366  0.025457    -0.090188  \n",
      "valence           1.000000  0.045089    -0.039794  \n",
      "tempo             0.045089  1.000000     0.130328  \n",
      "duration_ms      -0.039794  0.130328     1.000000  \n"
     ]
    }
   ],
   "source": [
    "# Selecting only numeric columns\n",
    "numeric_cols = df.select_dtypes(include=[\"int\", \"float\"]).columns\n",
    "\n",
    "# Calculate the correlation matrix\n",
    "corr_matrix = df[numeric_cols].corr()\n",
    "\n",
    "# Display the correlation matrix\n",
    "print(corr_matrix)"
   ]
  },
  {
   "cell_type": "markdown",
   "id": "a4133917",
   "metadata": {},
   "source": [
    "##### Key Insights:\n",
    "\n",
    "##### Energy & Loudness:\n",
    "    - High positive correlation (0.79), meaning energetic songs tend to be louder.\n",
    "\n",
    "##### Energy & Acousticness:\n",
    "    - Strong negative correlation (-0.68), meaning energetic songs are usually not acoustic.\n",
    "\n",
    "##### Danceability & Valence:\n",
    "    - Positive correlation (0.48), meaning more danceable songs are usually happier.\n"
   ]
  },
  {
   "cell_type": "markdown",
   "id": "1d26af82",
   "metadata": {},
   "source": [
    "#### 2. Correlation between specific features:"
   ]
  },
  {
   "cell_type": "code",
   "execution_count": 25,
   "id": "a5318d1a",
   "metadata": {},
   "outputs": [
    {
     "name": "stdout",
     "output_type": "stream",
     "text": [
      "                   danceability  loudness  acousticness\n",
      "genre                                                  \n",
      "Alternative/Indie      0.661750 -5.421000      0.583500\n",
      "Dance/Electronic       0.755000 -5.338000      0.099440\n",
      "Hip-Hop/Rap            0.765538 -6.917846      0.188741\n",
      "Pop                    0.677571 -6.460357      0.323843\n"
     ]
    }
   ],
   "source": [
    "# Filtering specific genres\n",
    "selected_genres = df[\n",
    "    df[\"genre\"].isin([\"Pop\", \"Hip-Hop/Rap\", \"Dance/Electronic\", \"Alternative/Indie\"])\n",
    "]\n",
    "\n",
    "# Group by genre and calculate the mean of selected features\n",
    "genre_comp = selected_genres.groupby(\"genre\")[\n",
    "    [\"danceability\", \"loudness\", \"acousticness\"]\n",
    "].mean()\n",
    "\n",
    "# Print the result\n",
    "print(genre_comp)"
   ]
  },
  {
   "cell_type": "markdown",
   "id": "58581b5c",
   "metadata": {},
   "source": [
    "##### Comparative Analysis of Genres Based on Danceability, Loudness, and Acousticness:\n",
    "\n",
    "##### Danceability: \n",
    "    - Hip-Hop/Rap (0.766) and Dance/Electronic (0.755) are the most danceable genres, making them ideal for tracks that get people moving. \n",
    "    -Pop (0.678) and Alternative/Indie (0.662) are moderately danceable, indicating a more balanced feel.\n",
    "\n",
    "##### Loudness:\n",
    "    - Dance/Electronic is the loudest (-5.34 dB), followed closely by Alternative/Indie (-5.42 dB). \n",
    "    - Hip-Hop/Rap (-6.92 dB) and Pop (-6.46 dB) are quieter, suggesting a softer production style compared to the more aggressive sounds of Dance/Electronic.\n",
    "\n",
    "##### Acousticness:\n",
    "    - Alternative/Indie (0.583) has the most acoustic elements, reflecting its organic sound, while Dance/Electronic (0.099) has the least, focusing on electronic production. Pop (0.324) and Hip-Hop/Rap (0.189) fall in the middle, blending acoustic and electronic elements.\n",
    "\n",
    "##### In summary, Dance/Electronic and Hip-Hop/Rap excel in danceability, with Dance/Electronic being louder but less acoustic. Alternative/Indie is more acoustic, offering a more organic sound, while Pop sits between these genres in both attributes."
   ]
  }
 ],
 "metadata": {
  "kernelspec": {
   "display_name": ".venv",
   "language": "python",
   "name": "python3"
  },
  "language_info": {
   "codemirror_mode": {
    "name": "ipython",
    "version": 3
   },
   "file_extension": ".py",
   "mimetype": "text/x-python",
   "name": "python",
   "nbconvert_exporter": "python",
   "pygments_lexer": "ipython3",
   "version": "3.11.5"
  }
 },
 "nbformat": 4,
 "nbformat_minor": 5
}
